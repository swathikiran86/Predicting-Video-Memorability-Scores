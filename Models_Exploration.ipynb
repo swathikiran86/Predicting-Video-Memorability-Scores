{
 "cells": [
  {
   "cell_type": "markdown",
   "metadata": {},
   "source": [
    "This Notebook has detail code used for exploring various features and models for predicting Memorability. "
   ]
  },
  {
   "cell_type": "markdown",
   "metadata": {},
   "source": [
    "Importing the Libraries"
   ]
  },
  {
   "cell_type": "code",
   "execution_count": 1,
   "metadata": {},
   "outputs": [],
   "source": [
    "import numpy as np\n",
    "import pandas as pd\n",
    "import matplotlib.pyplot as plt\n",
    "import glob\n",
    "import os"
   ]
  },
  {
   "cell_type": "markdown",
   "metadata": {},
   "source": [
    "Importing the Ground Truth Dataset from CSV file"
   ]
  },
  {
   "cell_type": "code",
   "execution_count": 2,
   "metadata": {},
   "outputs": [],
   "source": [
    "ground_truth = pd.read_csv('dev-set_ground-truth.csv')"
   ]
  },
  {
   "cell_type": "code",
   "execution_count": 3,
   "metadata": {},
   "outputs": [
    {
     "data": {
      "text/html": [
       "<div>\n",
       "<style scoped>\n",
       "    .dataframe tbody tr th:only-of-type {\n",
       "        vertical-align: middle;\n",
       "    }\n",
       "\n",
       "    .dataframe tbody tr th {\n",
       "        vertical-align: top;\n",
       "    }\n",
       "\n",
       "    .dataframe thead th {\n",
       "        text-align: right;\n",
       "    }\n",
       "</style>\n",
       "<table border=\"1\" class=\"dataframe\">\n",
       "  <thead>\n",
       "    <tr style=\"text-align: right;\">\n",
       "      <th></th>\n",
       "      <th>video</th>\n",
       "      <th>short-term_memorability</th>\n",
       "      <th>nb_short-term_annotations</th>\n",
       "      <th>long-term_memorability</th>\n",
       "      <th>nb_long-term_annotations</th>\n",
       "    </tr>\n",
       "  </thead>\n",
       "  <tbody>\n",
       "    <tr>\n",
       "      <th>0</th>\n",
       "      <td>video3.webm</td>\n",
       "      <td>0.924</td>\n",
       "      <td>34</td>\n",
       "      <td>0.846</td>\n",
       "      <td>13</td>\n",
       "    </tr>\n",
       "    <tr>\n",
       "      <th>1</th>\n",
       "      <td>video4.webm</td>\n",
       "      <td>0.923</td>\n",
       "      <td>33</td>\n",
       "      <td>0.667</td>\n",
       "      <td>12</td>\n",
       "    </tr>\n",
       "    <tr>\n",
       "      <th>2</th>\n",
       "      <td>video6.webm</td>\n",
       "      <td>0.863</td>\n",
       "      <td>33</td>\n",
       "      <td>0.700</td>\n",
       "      <td>10</td>\n",
       "    </tr>\n",
       "    <tr>\n",
       "      <th>3</th>\n",
       "      <td>video8.webm</td>\n",
       "      <td>0.922</td>\n",
       "      <td>33</td>\n",
       "      <td>0.818</td>\n",
       "      <td>11</td>\n",
       "    </tr>\n",
       "    <tr>\n",
       "      <th>4</th>\n",
       "      <td>video10.webm</td>\n",
       "      <td>0.950</td>\n",
       "      <td>34</td>\n",
       "      <td>0.900</td>\n",
       "      <td>10</td>\n",
       "    </tr>\n",
       "  </tbody>\n",
       "</table>\n",
       "</div>"
      ],
      "text/plain": [
       "          video  short-term_memorability  nb_short-term_annotations  \\\n",
       "0   video3.webm                    0.924                         34   \n",
       "1   video4.webm                    0.923                         33   \n",
       "2   video6.webm                    0.863                         33   \n",
       "3   video8.webm                    0.922                         33   \n",
       "4  video10.webm                    0.950                         34   \n",
       "\n",
       "   long-term_memorability  nb_long-term_annotations  \n",
       "0                   0.846                        13  \n",
       "1                   0.667                        12  \n",
       "2                   0.700                        10  \n",
       "3                   0.818                        11  \n",
       "4                   0.900                        10  "
      ]
     },
     "execution_count": 3,
     "metadata": {},
     "output_type": "execute_result"
    }
   ],
   "source": [
    "ground_truth.head()"
   ]
  },
  {
   "cell_type": "markdown",
   "metadata": {},
   "source": [
    "Checking the correlation between the columns"
   ]
  },
  {
   "cell_type": "code",
   "execution_count": 4,
   "metadata": {},
   "outputs": [
    {
     "data": {
      "text/html": [
       "<div>\n",
       "<style scoped>\n",
       "    .dataframe tbody tr th:only-of-type {\n",
       "        vertical-align: middle;\n",
       "    }\n",
       "\n",
       "    .dataframe tbody tr th {\n",
       "        vertical-align: top;\n",
       "    }\n",
       "\n",
       "    .dataframe thead th {\n",
       "        text-align: right;\n",
       "    }\n",
       "</style>\n",
       "<table border=\"1\" class=\"dataframe\">\n",
       "  <thead>\n",
       "    <tr style=\"text-align: right;\">\n",
       "      <th></th>\n",
       "      <th>short-term_memorability</th>\n",
       "      <th>nb_short-term_annotations</th>\n",
       "      <th>long-term_memorability</th>\n",
       "      <th>nb_long-term_annotations</th>\n",
       "    </tr>\n",
       "  </thead>\n",
       "  <tbody>\n",
       "    <tr>\n",
       "      <th>short-term_memorability</th>\n",
       "      <td>1.000000</td>\n",
       "      <td>-0.021178</td>\n",
       "      <td>0.325002</td>\n",
       "      <td>-0.013858</td>\n",
       "    </tr>\n",
       "    <tr>\n",
       "      <th>nb_short-term_annotations</th>\n",
       "      <td>-0.021178</td>\n",
       "      <td>1.000000</td>\n",
       "      <td>-0.047093</td>\n",
       "      <td>0.285548</td>\n",
       "    </tr>\n",
       "    <tr>\n",
       "      <th>long-term_memorability</th>\n",
       "      <td>0.325002</td>\n",
       "      <td>-0.047093</td>\n",
       "      <td>1.000000</td>\n",
       "      <td>0.036051</td>\n",
       "    </tr>\n",
       "    <tr>\n",
       "      <th>nb_long-term_annotations</th>\n",
       "      <td>-0.013858</td>\n",
       "      <td>0.285548</td>\n",
       "      <td>0.036051</td>\n",
       "      <td>1.000000</td>\n",
       "    </tr>\n",
       "  </tbody>\n",
       "</table>\n",
       "</div>"
      ],
      "text/plain": [
       "                           short-term_memorability  nb_short-term_annotations  \\\n",
       "short-term_memorability                   1.000000                  -0.021178   \n",
       "nb_short-term_annotations                -0.021178                   1.000000   \n",
       "long-term_memorability                    0.325002                  -0.047093   \n",
       "nb_long-term_annotations                 -0.013858                   0.285548   \n",
       "\n",
       "                           long-term_memorability  nb_long-term_annotations  \n",
       "short-term_memorability                  0.325002                 -0.013858  \n",
       "nb_short-term_annotations               -0.047093                  0.285548  \n",
       "long-term_memorability                   1.000000                  0.036051  \n",
       "nb_long-term_annotations                 0.036051                  1.000000  "
      ]
     },
     "execution_count": 4,
     "metadata": {},
     "output_type": "execute_result"
    }
   ],
   "source": [
    "ground_truth.corr()"
   ]
  },
  {
   "cell_type": "markdown",
   "metadata": {},
   "source": [
    "Annotations do not have high correlation with any of the columns, so eliminationg those columns"
   ]
  },
  {
   "cell_type": "code",
   "execution_count": 5,
   "metadata": {},
   "outputs": [],
   "source": [
    "ground_truth = ground_truth.drop(['nb_short-term_annotations', 'nb_long-term_annotations'], axis=1)"
   ]
  },
  {
   "cell_type": "code",
   "execution_count": 6,
   "metadata": {},
   "outputs": [
    {
     "data": {
      "text/html": [
       "<div>\n",
       "<style scoped>\n",
       "    .dataframe tbody tr th:only-of-type {\n",
       "        vertical-align: middle;\n",
       "    }\n",
       "\n",
       "    .dataframe tbody tr th {\n",
       "        vertical-align: top;\n",
       "    }\n",
       "\n",
       "    .dataframe thead th {\n",
       "        text-align: right;\n",
       "    }\n",
       "</style>\n",
       "<table border=\"1\" class=\"dataframe\">\n",
       "  <thead>\n",
       "    <tr style=\"text-align: right;\">\n",
       "      <th></th>\n",
       "      <th>video</th>\n",
       "      <th>short-term_memorability</th>\n",
       "      <th>long-term_memorability</th>\n",
       "    </tr>\n",
       "  </thead>\n",
       "  <tbody>\n",
       "    <tr>\n",
       "      <th>0</th>\n",
       "      <td>video3.webm</td>\n",
       "      <td>0.924</td>\n",
       "      <td>0.846</td>\n",
       "    </tr>\n",
       "    <tr>\n",
       "      <th>1</th>\n",
       "      <td>video4.webm</td>\n",
       "      <td>0.923</td>\n",
       "      <td>0.667</td>\n",
       "    </tr>\n",
       "    <tr>\n",
       "      <th>2</th>\n",
       "      <td>video6.webm</td>\n",
       "      <td>0.863</td>\n",
       "      <td>0.700</td>\n",
       "    </tr>\n",
       "    <tr>\n",
       "      <th>3</th>\n",
       "      <td>video8.webm</td>\n",
       "      <td>0.922</td>\n",
       "      <td>0.818</td>\n",
       "    </tr>\n",
       "    <tr>\n",
       "      <th>4</th>\n",
       "      <td>video10.webm</td>\n",
       "      <td>0.950</td>\n",
       "      <td>0.900</td>\n",
       "    </tr>\n",
       "  </tbody>\n",
       "</table>\n",
       "</div>"
      ],
      "text/plain": [
       "          video  short-term_memorability  long-term_memorability\n",
       "0   video3.webm                    0.924                   0.846\n",
       "1   video4.webm                    0.923                   0.667\n",
       "2   video6.webm                    0.863                   0.700\n",
       "3   video8.webm                    0.922                   0.818\n",
       "4  video10.webm                    0.950                   0.900"
      ]
     },
     "execution_count": 6,
     "metadata": {},
     "output_type": "execute_result"
    }
   ],
   "source": [
    "ground_truth.head()"
   ]
  },
  {
   "cell_type": "markdown",
   "metadata": {},
   "source": [
    "<font style=\"font-size:25px;text-align:center;\">***Extracting features using Captions***</font>"
   ]
  },
  {
   "cell_type": "markdown",
   "metadata": {},
   "source": [
    "Importing the captions from a text file"
   ]
  },
  {
   "cell_type": "code",
   "execution_count": 7,
   "metadata": {},
   "outputs": [],
   "source": [
    "video_captions = pd.read_csv('dev-set_video-captions.txt',delimiter='\\t',header= None,names=('video','Captions'))"
   ]
  },
  {
   "cell_type": "code",
   "execution_count": 8,
   "metadata": {},
   "outputs": [
    {
     "data": {
      "text/html": [
       "<div>\n",
       "<style scoped>\n",
       "    .dataframe tbody tr th:only-of-type {\n",
       "        vertical-align: middle;\n",
       "    }\n",
       "\n",
       "    .dataframe tbody tr th {\n",
       "        vertical-align: top;\n",
       "    }\n",
       "\n",
       "    .dataframe thead th {\n",
       "        text-align: right;\n",
       "    }\n",
       "</style>\n",
       "<table border=\"1\" class=\"dataframe\">\n",
       "  <thead>\n",
       "    <tr style=\"text-align: right;\">\n",
       "      <th></th>\n",
       "      <th>video</th>\n",
       "      <th>Captions</th>\n",
       "    </tr>\n",
       "  </thead>\n",
       "  <tbody>\n",
       "    <tr>\n",
       "      <th>0</th>\n",
       "      <td>video3.webm</td>\n",
       "      <td>blonde-woman-is-massaged-tilt-down</td>\n",
       "    </tr>\n",
       "    <tr>\n",
       "      <th>1</th>\n",
       "      <td>video4.webm</td>\n",
       "      <td>roulette-table-spinning-with-ball-in-closeup-shot</td>\n",
       "    </tr>\n",
       "    <tr>\n",
       "      <th>2</th>\n",
       "      <td>video6.webm</td>\n",
       "      <td>khr-gangsters</td>\n",
       "    </tr>\n",
       "    <tr>\n",
       "      <th>3</th>\n",
       "      <td>video8.webm</td>\n",
       "      <td>medical-helicopter-hovers-at-airport</td>\n",
       "    </tr>\n",
       "    <tr>\n",
       "      <th>4</th>\n",
       "      <td>video10.webm</td>\n",
       "      <td>couple-relaxing-on-picnic-crane-shot</td>\n",
       "    </tr>\n",
       "  </tbody>\n",
       "</table>\n",
       "</div>"
      ],
      "text/plain": [
       "          video                                           Captions\n",
       "0   video3.webm                 blonde-woman-is-massaged-tilt-down\n",
       "1   video4.webm  roulette-table-spinning-with-ball-in-closeup-shot\n",
       "2   video6.webm                                      khr-gangsters\n",
       "3   video8.webm               medical-helicopter-hovers-at-airport\n",
       "4  video10.webm               couple-relaxing-on-picnic-crane-shot"
      ]
     },
     "execution_count": 8,
     "metadata": {},
     "output_type": "execute_result"
    }
   ],
   "source": [
    "video_captions.head()"
   ]
  },
  {
   "cell_type": "markdown",
   "metadata": {},
   "source": [
    "Exploring the high scores of short-term memorabilty and Long-term memorability by merfing ground truth and captions"
   ]
  },
  {
   "cell_type": "code",
   "execution_count": 9,
   "metadata": {},
   "outputs": [],
   "source": [
    "df = pd.merge(ground_truth, video_captions, on = 'video')"
   ]
  },
  {
   "cell_type": "markdown",
   "metadata": {},
   "source": [
    "Top 10 short term scores and their captions"
   ]
  },
  {
   "cell_type": "code",
   "execution_count": 10,
   "metadata": {},
   "outputs": [
    {
     "data": {
      "text/html": [
       "<div>\n",
       "<style scoped>\n",
       "    .dataframe tbody tr th:only-of-type {\n",
       "        vertical-align: middle;\n",
       "    }\n",
       "\n",
       "    .dataframe tbody tr th {\n",
       "        vertical-align: top;\n",
       "    }\n",
       "\n",
       "    .dataframe thead th {\n",
       "        text-align: right;\n",
       "    }\n",
       "</style>\n",
       "<table border=\"1\" class=\"dataframe\">\n",
       "  <thead>\n",
       "    <tr style=\"text-align: right;\">\n",
       "      <th></th>\n",
       "      <th>video</th>\n",
       "      <th>short-term_memorability</th>\n",
       "      <th>long-term_memorability</th>\n",
       "      <th>Captions</th>\n",
       "    </tr>\n",
       "  </thead>\n",
       "  <tbody>\n",
       "    <tr>\n",
       "      <th>651</th>\n",
       "      <td>video798.webm</td>\n",
       "      <td>0.989</td>\n",
       "      <td>1.000</td>\n",
       "      <td>camera-moves-in-on-beared-man-with-shovel-taki...</td>\n",
       "    </tr>\n",
       "    <tr>\n",
       "      <th>1599</th>\n",
       "      <td>video1981.webm</td>\n",
       "      <td>0.987</td>\n",
       "      <td>0.769</td>\n",
       "      <td>happy-stylish-elegant-young-couple-welcoming-i...</td>\n",
       "    </tr>\n",
       "    <tr>\n",
       "      <th>3910</th>\n",
       "      <td>video4903.webm</td>\n",
       "      <td>0.987</td>\n",
       "      <td>0.600</td>\n",
       "      <td>mather-and-daughter-enjoying-a-movie-on-tablet</td>\n",
       "    </tr>\n",
       "    <tr>\n",
       "      <th>1771</th>\n",
       "      <td>video2203.webm</td>\n",
       "      <td>0.986</td>\n",
       "      <td>0.800</td>\n",
       "      <td>astronaut-in-outer-space-against-the-backdrop-...</td>\n",
       "    </tr>\n",
       "    <tr>\n",
       "      <th>1903</th>\n",
       "      <td>video2364.webm</td>\n",
       "      <td>0.986</td>\n",
       "      <td>1.000</td>\n",
       "      <td>head-of-big-yellow-eel</td>\n",
       "    </tr>\n",
       "    <tr>\n",
       "      <th>2089</th>\n",
       "      <td>video2596.webm</td>\n",
       "      <td>0.986</td>\n",
       "      <td>0.733</td>\n",
       "      <td>funny-little-boy-sitting-at-desk-eating-apple-...</td>\n",
       "    </tr>\n",
       "    <tr>\n",
       "      <th>4024</th>\n",
       "      <td>video5047.webm</td>\n",
       "      <td>0.986</td>\n",
       "      <td>1.000</td>\n",
       "      <td>khr-western-unloadinggun</td>\n",
       "    </tr>\n",
       "    <tr>\n",
       "      <th>4880</th>\n",
       "      <td>video6103.webm</td>\n",
       "      <td>0.986</td>\n",
       "      <td>0.731</td>\n",
       "      <td>young-asian-woman-during-snowfall-slowmotion</td>\n",
       "    </tr>\n",
       "    <tr>\n",
       "      <th>398</th>\n",
       "      <td>video498.webm</td>\n",
       "      <td>0.985</td>\n",
       "      <td>0.750</td>\n",
       "      <td>man-reading-in-closed-in-porch</td>\n",
       "    </tr>\n",
       "    <tr>\n",
       "      <th>633</th>\n",
       "      <td>video778.webm</td>\n",
       "      <td>0.985</td>\n",
       "      <td>0.929</td>\n",
       "      <td>portrait-of-real-asian-people-with-emotions-an...</td>\n",
       "    </tr>\n",
       "  </tbody>\n",
       "</table>\n",
       "</div>"
      ],
      "text/plain": [
       "               video  short-term_memorability  long-term_memorability  \\\n",
       "651    video798.webm                    0.989                   1.000   \n",
       "1599  video1981.webm                    0.987                   0.769   \n",
       "3910  video4903.webm                    0.987                   0.600   \n",
       "1771  video2203.webm                    0.986                   0.800   \n",
       "1903  video2364.webm                    0.986                   1.000   \n",
       "2089  video2596.webm                    0.986                   0.733   \n",
       "4024  video5047.webm                    0.986                   1.000   \n",
       "4880  video6103.webm                    0.986                   0.731   \n",
       "398    video498.webm                    0.985                   0.750   \n",
       "633    video778.webm                    0.985                   0.929   \n",
       "\n",
       "                                               Captions  \n",
       "651   camera-moves-in-on-beared-man-with-shovel-taki...  \n",
       "1599  happy-stylish-elegant-young-couple-welcoming-i...  \n",
       "3910     mather-and-daughter-enjoying-a-movie-on-tablet  \n",
       "1771  astronaut-in-outer-space-against-the-backdrop-...  \n",
       "1903                             head-of-big-yellow-eel  \n",
       "2089  funny-little-boy-sitting-at-desk-eating-apple-...  \n",
       "4024                           khr-western-unloadinggun  \n",
       "4880       young-asian-woman-during-snowfall-slowmotion  \n",
       "398                      man-reading-in-closed-in-porch  \n",
       "633   portrait-of-real-asian-people-with-emotions-an...  "
      ]
     },
     "execution_count": 10,
     "metadata": {},
     "output_type": "execute_result"
    }
   ],
   "source": [
    "df.nlargest(10, ['short-term_memorability']) "
   ]
  },
  {
   "cell_type": "markdown",
   "metadata": {},
   "source": [
    "Highly associated words are with humans and actions"
   ]
  },
  {
   "cell_type": "markdown",
   "metadata": {},
   "source": [
    "Top 10 long term scores and their captions"
   ]
  },
  {
   "cell_type": "code",
   "execution_count": 11,
   "metadata": {},
   "outputs": [
    {
     "data": {
      "text/html": [
       "<div>\n",
       "<style scoped>\n",
       "    .dataframe tbody tr th:only-of-type {\n",
       "        vertical-align: middle;\n",
       "    }\n",
       "\n",
       "    .dataframe tbody tr th {\n",
       "        vertical-align: top;\n",
       "    }\n",
       "\n",
       "    .dataframe thead th {\n",
       "        text-align: right;\n",
       "    }\n",
       "</style>\n",
       "<table border=\"1\" class=\"dataframe\">\n",
       "  <thead>\n",
       "    <tr style=\"text-align: right;\">\n",
       "      <th></th>\n",
       "      <th>video</th>\n",
       "      <th>short-term_memorability</th>\n",
       "      <th>long-term_memorability</th>\n",
       "      <th>Captions</th>\n",
       "    </tr>\n",
       "  </thead>\n",
       "  <tbody>\n",
       "    <tr>\n",
       "      <th>8</th>\n",
       "      <td>video17.webm</td>\n",
       "      <td>0.777</td>\n",
       "      <td>1.0</td>\n",
       "      <td>hoover-dam-tourists-traffic</td>\n",
       "    </tr>\n",
       "    <tr>\n",
       "      <th>9</th>\n",
       "      <td>video18.webm</td>\n",
       "      <td>0.863</td>\n",
       "      <td>1.0</td>\n",
       "      <td>happy-girl-stretching-and-relaxing-on-the-station</td>\n",
       "    </tr>\n",
       "    <tr>\n",
       "      <th>33</th>\n",
       "      <td>video44.webm</td>\n",
       "      <td>0.828</td>\n",
       "      <td>1.0</td>\n",
       "      <td>christmas-market-at-schloss-charlottenburg-cha...</td>\n",
       "    </tr>\n",
       "    <tr>\n",
       "      <th>44</th>\n",
       "      <td>video56.webm</td>\n",
       "      <td>0.953</td>\n",
       "      <td>1.0</td>\n",
       "      <td>trackingof-a-couple-removing-a-sign-from-the-f...</td>\n",
       "    </tr>\n",
       "    <tr>\n",
       "      <th>46</th>\n",
       "      <td>video58.webm</td>\n",
       "      <td>0.744</td>\n",
       "      <td>1.0</td>\n",
       "      <td>firefighters-by-flaming-car</td>\n",
       "    </tr>\n",
       "    <tr>\n",
       "      <th>50</th>\n",
       "      <td>video63.webm</td>\n",
       "      <td>0.924</td>\n",
       "      <td>1.0</td>\n",
       "      <td>steadicamof-african-american-american-sports-f...</td>\n",
       "    </tr>\n",
       "    <tr>\n",
       "      <th>51</th>\n",
       "      <td>video65.webm</td>\n",
       "      <td>0.979</td>\n",
       "      <td>1.0</td>\n",
       "      <td>cowboy-pounds-fencepost</td>\n",
       "    </tr>\n",
       "    <tr>\n",
       "      <th>54</th>\n",
       "      <td>video68.webm</td>\n",
       "      <td>0.937</td>\n",
       "      <td>1.0</td>\n",
       "      <td>young-couple-portrait-smile-with-happiness-wit...</td>\n",
       "    </tr>\n",
       "    <tr>\n",
       "      <th>69</th>\n",
       "      <td>video85.webm</td>\n",
       "      <td>0.924</td>\n",
       "      <td>1.0</td>\n",
       "      <td>puppies-playing</td>\n",
       "    </tr>\n",
       "    <tr>\n",
       "      <th>70</th>\n",
       "      <td>video86.webm</td>\n",
       "      <td>0.983</td>\n",
       "      <td>1.0</td>\n",
       "      <td>young-couple-with-bottle-of-wine-standing-on-s...</td>\n",
       "    </tr>\n",
       "  </tbody>\n",
       "</table>\n",
       "</div>"
      ],
      "text/plain": [
       "           video  short-term_memorability  long-term_memorability  \\\n",
       "8   video17.webm                    0.777                     1.0   \n",
       "9   video18.webm                    0.863                     1.0   \n",
       "33  video44.webm                    0.828                     1.0   \n",
       "44  video56.webm                    0.953                     1.0   \n",
       "46  video58.webm                    0.744                     1.0   \n",
       "50  video63.webm                    0.924                     1.0   \n",
       "51  video65.webm                    0.979                     1.0   \n",
       "54  video68.webm                    0.937                     1.0   \n",
       "69  video85.webm                    0.924                     1.0   \n",
       "70  video86.webm                    0.983                     1.0   \n",
       "\n",
       "                                             Captions  \n",
       "8                         hoover-dam-tourists-traffic  \n",
       "9   happy-girl-stretching-and-relaxing-on-the-station  \n",
       "33  christmas-market-at-schloss-charlottenburg-cha...  \n",
       "44  trackingof-a-couple-removing-a-sign-from-the-f...  \n",
       "46                        firefighters-by-flaming-car  \n",
       "50  steadicamof-african-american-american-sports-f...  \n",
       "51                            cowboy-pounds-fencepost  \n",
       "54  young-couple-portrait-smile-with-happiness-wit...  \n",
       "69                                    puppies-playing  \n",
       "70  young-couple-with-bottle-of-wine-standing-on-s...  "
      ]
     },
     "execution_count": 11,
     "metadata": {},
     "output_type": "execute_result"
    }
   ],
   "source": [
    "df.nlargest(10, ['long-term_memorability']) "
   ]
  },
  {
   "cell_type": "markdown",
   "metadata": {},
   "source": [
    "Same here, humans and their actions are the words that are present in top 10 videos"
   ]
  },
  {
   "cell_type": "markdown",
   "metadata": {},
   "source": [
    "Cleaning the text data of Captions using NLP Libraries"
   ]
  },
  {
   "cell_type": "markdown",
   "metadata": {},
   "source": [
    "Importing the NLP Libraries"
   ]
  },
  {
   "cell_type": "code",
   "execution_count": 12,
   "metadata": {},
   "outputs": [
    {
     "name": "stdout",
     "output_type": "stream",
     "text": [
      "[nltk_data] Downloading package stopwords to\n",
      "[nltk_data]     /Users/swathikiran/nltk_data...\n",
      "[nltk_data]   Package stopwords is already up-to-date!\n"
     ]
    }
   ],
   "source": [
    "import re\n",
    "import nltk\n",
    "nltk.download('stopwords')\n",
    "from nltk.corpus import stopwords"
   ]
  },
  {
   "cell_type": "markdown",
   "metadata": {},
   "source": [
    "Removing the special charecters and retaining only text data in lowercase text,\n",
    "Removing Stopwords,\n",
    "Storing the cleaned text data into a list named captions"
   ]
  },
  {
   "cell_type": "code",
   "execution_count": 13,
   "metadata": {},
   "outputs": [],
   "source": [
    "cleaned_captions = []\n",
    "for i in range(0, 6000):\n",
    "    text = re.sub('[^a-zA-Z]', ' ', video_captions['Captions'][i])\n",
    "    text = text.lower()\n",
    "    text = text.split()\n",
    "    text = [word for word in text if not word in set(stopwords.words('english'))]\n",
    "    text = ' '.join(text)\n",
    "    cleaned_captions.append(text)"
   ]
  },
  {
   "cell_type": "code",
   "execution_count": 14,
   "metadata": {},
   "outputs": [
    {
     "data": {
      "text/plain": [
       "'blonde woman massaged tilt'"
      ]
     },
     "execution_count": 14,
     "metadata": {},
     "output_type": "execute_result"
    }
   ],
   "source": [
    "cleaned_captions[0]"
   ]
  },
  {
   "cell_type": "markdown",
   "metadata": {},
   "source": [
    "***Giving weights to certain words ***"
   ]
  },
  {
   "cell_type": "markdown",
   "metadata": {},
   "source": [
    "Giving lower values to negetive coefficient words ( weights chose in range between 0 and 0.20)"
   ]
  },
  {
   "cell_type": "code",
   "execution_count": 153,
   "metadata": {},
   "outputs": [],
   "source": [
    "negavtive_weights = {'mountains':0.01,'sunset':0.02,'trees':0.03,'mountain':0.04,'clouds':0.05,'river':0.06,'aerialof':0.07,'lake':0.08,'forest':0.09,'kenya':0.10,'landscape':0.11,'valley':0.12,'leaves':0.13,'sun':0.14}"
   ]
  },
  {
   "cell_type": "markdown",
   "metadata": {},
   "source": [
    "Giving higher values to positive coefficient words ( weights chose in range between 0.50 and 0.70)"
   ]
  },
  {
   "cell_type": "code",
   "execution_count": 154,
   "metadata": {},
   "outputs": [],
   "source": [
    "positive_weights = {'woman':0.65,'eating':0.64,'putting':0.63,'lying':0.62,'girl':0.61,'selfie':0.60,'relaxing':0.59,'jellyfish':0.58,'cat':0.57,'super':0.56,'slow':0.55,'super':0.54,'american':0.53,'potrait':0.52,'pregnant':0.51,'couple':0.50}"
   ]
  },
  {
   "cell_type": "markdown",
   "metadata": {},
   "source": [
    "I am checking if a word in caption exisits in my weights , if so then i am adding thje weights for that caption"
   ]
  },
  {
   "cell_type": "code",
   "execution_count": 155,
   "metadata": {},
   "outputs": [],
   "source": [
    "pos_list = []\n",
    "neg_list = []\n",
    "for i in range(0, 6000):\n",
    "    local_pos_weight = 0\n",
    "    local_neg_weight = 0\n",
    "    text = video_captions['Captions'][i]\n",
    "    text = text.split()\n",
    "    for word in text:\n",
    "        if(word in set(positive_weights.keys())):\n",
    "                pw = local_pos_weight + positive_weights[word]\n",
    "        if(word in set(negavtive_weights.keys())):\n",
    "                nw = local_neg_weight + negavtive_weights[word]\n",
    "    pos_list.append(local_pos_weight)\n",
    "    neg_list.append(local_neg_weight)"
   ]
  },
  {
   "cell_type": "code",
   "execution_count": 156,
   "metadata": {},
   "outputs": [],
   "source": [
    "weights_df = pd.DataFrame(\n",
    "    {'positive_weights': pos_list,\n",
    "     'negative_weights': neg_list\n",
    "    })"
   ]
  },
  {
   "cell_type": "markdown",
   "metadata": {},
   "source": [
    "Extracting the count features from the captions"
   ]
  },
  {
   "cell_type": "code",
   "execution_count": 15,
   "metadata": {},
   "outputs": [],
   "source": [
    "from sklearn.feature_extraction.text import CountVectorizer\n",
    "cv = CountVectorizer()"
   ]
  },
  {
   "cell_type": "markdown",
   "metadata": {},
   "source": [
    "Extracting the TFIDF features from the captions"
   ]
  },
  {
   "cell_type": "code",
   "execution_count": 16,
   "metadata": {},
   "outputs": [],
   "source": [
    "from sklearn.feature_extraction.text import TfidfVectorizer\n",
    "tf = TfidfVectorizer()"
   ]
  },
  {
   "cell_type": "markdown",
   "metadata": {},
   "source": [
    "Using CountVectorizer for feature Extraction"
   ]
  },
  {
   "cell_type": "code",
   "execution_count": 17,
   "metadata": {},
   "outputs": [],
   "source": [
    "caption_features = cv.fit_transform(cleaned_captions).toarray()"
   ]
  },
  {
   "cell_type": "code",
   "execution_count": 18,
   "metadata": {},
   "outputs": [
    {
     "data": {
      "text/plain": [
       "array([0, 0, 0, ..., 0, 0, 0], dtype=int64)"
      ]
     },
     "execution_count": 18,
     "metadata": {},
     "output_type": "execute_result"
    }
   ],
   "source": [
    "caption_features[0]"
   ]
  },
  {
   "cell_type": "code",
   "execution_count": 19,
   "metadata": {},
   "outputs": [
    {
     "data": {
      "text/plain": [
       "(6000, 5087)"
      ]
     },
     "execution_count": 19,
     "metadata": {},
     "output_type": "execute_result"
    }
   ],
   "source": [
    "caption_features.shape"
   ]
  },
  {
   "cell_type": "markdown",
   "metadata": {},
   "source": [
    "The training set captions are ready now, In this scenario i have used count vectorizer to convert them into machine readable features"
   ]
  },
  {
   "cell_type": "markdown",
   "metadata": {},
   "source": [
    "<font style=\"font-size:25px;text-align:center;\">***Extracting the features from C3D***</font>"
   ]
  },
  {
   "cell_type": "markdown",
   "metadata": {},
   "source": [
    "Defining the method for reading C3D Features from a file"
   ]
  },
  {
   "cell_type": "code",
   "execution_count": 20,
   "metadata": {},
   "outputs": [],
   "source": [
    "def read_C3D(fname):\n",
    "    \"\"\"Scan vectors from file\"\"\"\n",
    "    with open(fname) as f:\n",
    "        for line in f:\n",
    "            C3D =[float(item) for item in line.split()] # convert to float type, using default separator\n",
    "    return C3D"
   ]
  },
  {
   "cell_type": "markdown",
   "metadata": {},
   "source": [
    "Calling the method for fetching C3D features and storing them into a array list using loop"
   ]
  },
  {
   "cell_type": "code",
   "execution_count": 21,
   "metadata": {},
   "outputs": [],
   "source": [
    "my_numlist= [] # Creating new list to store the C3D features\n",
    "my_namelist = [] #Creating a new list to store the names of the videos\n",
    "path = 'C3D/*.txt'\n",
    "for filename in glob.glob('C3D/*.txt'):\n",
    "    s= read_C3D(filename)\n",
    "    my_numlist.append(s)\n",
    "    my_namelist.append(((filename.split('/')[-1]).split('.')[0])+ '.webm') \n",
    "#adding .webm to the name to make it similar to the video name in ground truth"
   ]
  },
  {
   "cell_type": "code",
   "execution_count": 22,
   "metadata": {},
   "outputs": [
    {
     "data": {
      "text/plain": [
       "101"
      ]
     },
     "execution_count": 22,
     "metadata": {},
     "output_type": "execute_result"
    }
   ],
   "source": [
    "len(my_numlist[0]) #All 101 features have been captured"
   ]
  },
  {
   "cell_type": "code",
   "execution_count": 23,
   "metadata": {},
   "outputs": [
    {
     "data": {
      "text/plain": [
       "6000"
      ]
     },
     "execution_count": 23,
     "metadata": {},
     "output_type": "execute_result"
    }
   ],
   "source": [
    "len(my_numlist) "
   ]
  },
  {
   "cell_type": "markdown",
   "metadata": {},
   "source": [
    "Creating a dataframe to store the extracted C3D features with their video names"
   ]
  },
  {
   "cell_type": "code",
   "execution_count": 24,
   "metadata": {},
   "outputs": [],
   "source": [
    "c3d = pd.DataFrame(np.array(my_numlist).reshape(6000,101))\n",
    "c3d[\"video\"] = my_namelist\n",
    "#creating new column as video and assigning the names of the vidoes"
   ]
  },
  {
   "cell_type": "code",
   "execution_count": 25,
   "metadata": {},
   "outputs": [
    {
     "data": {
      "text/html": [
       "<div>\n",
       "<style scoped>\n",
       "    .dataframe tbody tr th:only-of-type {\n",
       "        vertical-align: middle;\n",
       "    }\n",
       "\n",
       "    .dataframe tbody tr th {\n",
       "        vertical-align: top;\n",
       "    }\n",
       "\n",
       "    .dataframe thead th {\n",
       "        text-align: right;\n",
       "    }\n",
       "</style>\n",
       "<table border=\"1\" class=\"dataframe\">\n",
       "  <thead>\n",
       "    <tr style=\"text-align: right;\">\n",
       "      <th></th>\n",
       "      <th>0</th>\n",
       "      <th>1</th>\n",
       "      <th>2</th>\n",
       "      <th>3</th>\n",
       "      <th>4</th>\n",
       "      <th>5</th>\n",
       "      <th>6</th>\n",
       "      <th>7</th>\n",
       "      <th>8</th>\n",
       "      <th>9</th>\n",
       "      <th>...</th>\n",
       "      <th>92</th>\n",
       "      <th>93</th>\n",
       "      <th>94</th>\n",
       "      <th>95</th>\n",
       "      <th>96</th>\n",
       "      <th>97</th>\n",
       "      <th>98</th>\n",
       "      <th>99</th>\n",
       "      <th>100</th>\n",
       "      <th>video</th>\n",
       "    </tr>\n",
       "  </thead>\n",
       "  <tbody>\n",
       "    <tr>\n",
       "      <th>0</th>\n",
       "      <td>1.016593e-02</td>\n",
       "      <td>0.003529</td>\n",
       "      <td>3.596300e-04</td>\n",
       "      <td>3.730000e-06</td>\n",
       "      <td>7.100000e-07</td>\n",
       "      <td>0.000002</td>\n",
       "      <td>0.000011</td>\n",
       "      <td>1.240000e-06</td>\n",
       "      <td>0.000002</td>\n",
       "      <td>7.410000e-06</td>\n",
       "      <td>...</td>\n",
       "      <td>4.500000e-07</td>\n",
       "      <td>7.300000e-07</td>\n",
       "      <td>0.000074</td>\n",
       "      <td>8.930000e-06</td>\n",
       "      <td>8.000000e-08</td>\n",
       "      <td>1.515000e-05</td>\n",
       "      <td>6.920740e-03</td>\n",
       "      <td>5.757750e-03</td>\n",
       "      <td>0.001361</td>\n",
       "      <td>video4960.webm</td>\n",
       "    </tr>\n",
       "    <tr>\n",
       "      <th>1</th>\n",
       "      <td>1.100000e-07</td>\n",
       "      <td>0.000003</td>\n",
       "      <td>2.000000e-08</td>\n",
       "      <td>2.000000e-08</td>\n",
       "      <td>1.000000e-08</td>\n",
       "      <td>0.998340</td>\n",
       "      <td>0.001243</td>\n",
       "      <td>7.000000e-08</td>\n",
       "      <td>0.000002</td>\n",
       "      <td>6.200000e-07</td>\n",
       "      <td>...</td>\n",
       "      <td>2.000000e-08</td>\n",
       "      <td>5.000000e-08</td>\n",
       "      <td>0.000000</td>\n",
       "      <td>1.200000e-07</td>\n",
       "      <td>3.740000e-06</td>\n",
       "      <td>3.000000e-08</td>\n",
       "      <td>6.000000e-08</td>\n",
       "      <td>3.300000e-07</td>\n",
       "      <td>0.000002</td>\n",
       "      <td>video1818.webm</td>\n",
       "    </tr>\n",
       "    <tr>\n",
       "      <th>2</th>\n",
       "      <td>5.099310e-03</td>\n",
       "      <td>0.003971</td>\n",
       "      <td>4.524705e-02</td>\n",
       "      <td>1.191236e-02</td>\n",
       "      <td>4.797800e-04</td>\n",
       "      <td>0.001651</td>\n",
       "      <td>0.000028</td>\n",
       "      <td>5.206160e-03</td>\n",
       "      <td>0.001073</td>\n",
       "      <td>3.011200e-04</td>\n",
       "      <td>...</td>\n",
       "      <td>5.056720e-03</td>\n",
       "      <td>3.543000e-04</td>\n",
       "      <td>0.015899</td>\n",
       "      <td>4.936500e-04</td>\n",
       "      <td>1.232000e-05</td>\n",
       "      <td>1.196730e-03</td>\n",
       "      <td>3.608730e-03</td>\n",
       "      <td>1.307450e-03</td>\n",
       "      <td>0.015382</td>\n",
       "      <td>video6811.webm</td>\n",
       "    </tr>\n",
       "    <tr>\n",
       "      <th>3</th>\n",
       "      <td>7.262300e-04</td>\n",
       "      <td>0.000772</td>\n",
       "      <td>8.653800e-04</td>\n",
       "      <td>8.510000e-06</td>\n",
       "      <td>1.606000e-05</td>\n",
       "      <td>0.000046</td>\n",
       "      <td>0.000535</td>\n",
       "      <td>7.480000e-06</td>\n",
       "      <td>0.000392</td>\n",
       "      <td>1.807000e-05</td>\n",
       "      <td>...</td>\n",
       "      <td>1.903500e-04</td>\n",
       "      <td>3.845000e-05</td>\n",
       "      <td>0.000050</td>\n",
       "      <td>4.490100e-04</td>\n",
       "      <td>1.281000e-05</td>\n",
       "      <td>6.549500e-04</td>\n",
       "      <td>5.448000e-05</td>\n",
       "      <td>7.443100e-04</td>\n",
       "      <td>0.042389</td>\n",
       "      <td>video3969.webm</td>\n",
       "    </tr>\n",
       "    <tr>\n",
       "      <th>4</th>\n",
       "      <td>2.519000e-04</td>\n",
       "      <td>0.002037</td>\n",
       "      <td>8.340000e-06</td>\n",
       "      <td>2.389000e-05</td>\n",
       "      <td>1.657600e-04</td>\n",
       "      <td>0.000002</td>\n",
       "      <td>0.000001</td>\n",
       "      <td>3.010000e-06</td>\n",
       "      <td>0.000020</td>\n",
       "      <td>1.483000e-05</td>\n",
       "      <td>...</td>\n",
       "      <td>1.520000e-05</td>\n",
       "      <td>7.500000e-07</td>\n",
       "      <td>0.000075</td>\n",
       "      <td>1.070000e-05</td>\n",
       "      <td>7.600000e-07</td>\n",
       "      <td>1.825000e-05</td>\n",
       "      <td>6.562000e-05</td>\n",
       "      <td>3.131800e-04</td>\n",
       "      <td>0.000002</td>\n",
       "      <td>video993.webm</td>\n",
       "    </tr>\n",
       "  </tbody>\n",
       "</table>\n",
       "<p>5 rows × 102 columns</p>\n",
       "</div>"
      ],
      "text/plain": [
       "              0         1             2             3             4         5  \\\n",
       "0  1.016593e-02  0.003529  3.596300e-04  3.730000e-06  7.100000e-07  0.000002   \n",
       "1  1.100000e-07  0.000003  2.000000e-08  2.000000e-08  1.000000e-08  0.998340   \n",
       "2  5.099310e-03  0.003971  4.524705e-02  1.191236e-02  4.797800e-04  0.001651   \n",
       "3  7.262300e-04  0.000772  8.653800e-04  8.510000e-06  1.606000e-05  0.000046   \n",
       "4  2.519000e-04  0.002037  8.340000e-06  2.389000e-05  1.657600e-04  0.000002   \n",
       "\n",
       "          6             7         8             9       ...        \\\n",
       "0  0.000011  1.240000e-06  0.000002  7.410000e-06       ...         \n",
       "1  0.001243  7.000000e-08  0.000002  6.200000e-07       ...         \n",
       "2  0.000028  5.206160e-03  0.001073  3.011200e-04       ...         \n",
       "3  0.000535  7.480000e-06  0.000392  1.807000e-05       ...         \n",
       "4  0.000001  3.010000e-06  0.000020  1.483000e-05       ...         \n",
       "\n",
       "             92            93        94            95            96  \\\n",
       "0  4.500000e-07  7.300000e-07  0.000074  8.930000e-06  8.000000e-08   \n",
       "1  2.000000e-08  5.000000e-08  0.000000  1.200000e-07  3.740000e-06   \n",
       "2  5.056720e-03  3.543000e-04  0.015899  4.936500e-04  1.232000e-05   \n",
       "3  1.903500e-04  3.845000e-05  0.000050  4.490100e-04  1.281000e-05   \n",
       "4  1.520000e-05  7.500000e-07  0.000075  1.070000e-05  7.600000e-07   \n",
       "\n",
       "             97            98            99       100           video  \n",
       "0  1.515000e-05  6.920740e-03  5.757750e-03  0.001361  video4960.webm  \n",
       "1  3.000000e-08  6.000000e-08  3.300000e-07  0.000002  video1818.webm  \n",
       "2  1.196730e-03  3.608730e-03  1.307450e-03  0.015382  video6811.webm  \n",
       "3  6.549500e-04  5.448000e-05  7.443100e-04  0.042389  video3969.webm  \n",
       "4  1.825000e-05  6.562000e-05  3.131800e-04  0.000002   video993.webm  \n",
       "\n",
       "[5 rows x 102 columns]"
      ]
     },
     "execution_count": 25,
     "metadata": {},
     "output_type": "execute_result"
    }
   ],
   "source": [
    "c3d.head() \n",
    "#includes video names and captions, which will help further while merging these features with ground truth"
   ]
  },
  {
   "cell_type": "markdown",
   "metadata": {},
   "source": [
    "Merging the datsets with ground truth and C3D features using Video column"
   ]
  },
  {
   "cell_type": "code",
   "execution_count": 26,
   "metadata": {},
   "outputs": [],
   "source": [
    "c3d_df = pd.merge(ground_truth, c3d, on='video')"
   ]
  },
  {
   "cell_type": "code",
   "execution_count": 27,
   "metadata": {},
   "outputs": [
    {
     "data": {
      "text/html": [
       "<div>\n",
       "<style scoped>\n",
       "    .dataframe tbody tr th:only-of-type {\n",
       "        vertical-align: middle;\n",
       "    }\n",
       "\n",
       "    .dataframe tbody tr th {\n",
       "        vertical-align: top;\n",
       "    }\n",
       "\n",
       "    .dataframe thead th {\n",
       "        text-align: right;\n",
       "    }\n",
       "</style>\n",
       "<table border=\"1\" class=\"dataframe\">\n",
       "  <thead>\n",
       "    <tr style=\"text-align: right;\">\n",
       "      <th></th>\n",
       "      <th>video</th>\n",
       "      <th>short-term_memorability</th>\n",
       "      <th>long-term_memorability</th>\n",
       "      <th>0</th>\n",
       "      <th>1</th>\n",
       "      <th>2</th>\n",
       "      <th>3</th>\n",
       "      <th>4</th>\n",
       "      <th>5</th>\n",
       "      <th>6</th>\n",
       "      <th>...</th>\n",
       "      <th>91</th>\n",
       "      <th>92</th>\n",
       "      <th>93</th>\n",
       "      <th>94</th>\n",
       "      <th>95</th>\n",
       "      <th>96</th>\n",
       "      <th>97</th>\n",
       "      <th>98</th>\n",
       "      <th>99</th>\n",
       "      <th>100</th>\n",
       "    </tr>\n",
       "  </thead>\n",
       "  <tbody>\n",
       "    <tr>\n",
       "      <th>0</th>\n",
       "      <td>video3.webm</td>\n",
       "      <td>0.924</td>\n",
       "      <td>0.846</td>\n",
       "      <td>0.020249</td>\n",
       "      <td>0.001578</td>\n",
       "      <td>0.000826</td>\n",
       "      <td>0.000945</td>\n",
       "      <td>0.000063</td>\n",
       "      <td>0.000003</td>\n",
       "      <td>0.001162</td>\n",
       "      <td>...</td>\n",
       "      <td>0.001042</td>\n",
       "      <td>0.000161</td>\n",
       "      <td>0.000257</td>\n",
       "      <td>0.046617</td>\n",
       "      <td>0.000156</td>\n",
       "      <td>0.000006</td>\n",
       "      <td>0.000537</td>\n",
       "      <td>0.000339</td>\n",
       "      <td>0.008437</td>\n",
       "      <td>0.000470</td>\n",
       "    </tr>\n",
       "    <tr>\n",
       "      <th>1</th>\n",
       "      <td>video4.webm</td>\n",
       "      <td>0.923</td>\n",
       "      <td>0.667</td>\n",
       "      <td>0.000118</td>\n",
       "      <td>0.000891</td>\n",
       "      <td>0.000188</td>\n",
       "      <td>0.000045</td>\n",
       "      <td>0.000063</td>\n",
       "      <td>0.000002</td>\n",
       "      <td>0.000641</td>\n",
       "      <td>...</td>\n",
       "      <td>0.000582</td>\n",
       "      <td>0.000393</td>\n",
       "      <td>0.000864</td>\n",
       "      <td>0.000947</td>\n",
       "      <td>0.000136</td>\n",
       "      <td>0.000007</td>\n",
       "      <td>0.000360</td>\n",
       "      <td>0.000159</td>\n",
       "      <td>0.001025</td>\n",
       "      <td>0.000020</td>\n",
       "    </tr>\n",
       "    <tr>\n",
       "      <th>2</th>\n",
       "      <td>video6.webm</td>\n",
       "      <td>0.863</td>\n",
       "      <td>0.700</td>\n",
       "      <td>0.011765</td>\n",
       "      <td>0.000746</td>\n",
       "      <td>0.000784</td>\n",
       "      <td>0.000013</td>\n",
       "      <td>0.000007</td>\n",
       "      <td>0.000028</td>\n",
       "      <td>0.000041</td>\n",
       "      <td>...</td>\n",
       "      <td>0.000224</td>\n",
       "      <td>0.000003</td>\n",
       "      <td>0.000031</td>\n",
       "      <td>0.002538</td>\n",
       "      <td>0.000104</td>\n",
       "      <td>0.000005</td>\n",
       "      <td>0.000064</td>\n",
       "      <td>0.005380</td>\n",
       "      <td>0.001027</td>\n",
       "      <td>0.001384</td>\n",
       "    </tr>\n",
       "    <tr>\n",
       "      <th>3</th>\n",
       "      <td>video8.webm</td>\n",
       "      <td>0.922</td>\n",
       "      <td>0.818</td>\n",
       "      <td>0.000223</td>\n",
       "      <td>0.000165</td>\n",
       "      <td>0.000007</td>\n",
       "      <td>0.000016</td>\n",
       "      <td>0.000005</td>\n",
       "      <td>0.000014</td>\n",
       "      <td>0.000154</td>\n",
       "      <td>...</td>\n",
       "      <td>0.000046</td>\n",
       "      <td>0.000009</td>\n",
       "      <td>0.000023</td>\n",
       "      <td>0.000053</td>\n",
       "      <td>0.000048</td>\n",
       "      <td>0.000019</td>\n",
       "      <td>0.000001</td>\n",
       "      <td>0.000004</td>\n",
       "      <td>0.000380</td>\n",
       "      <td>0.000029</td>\n",
       "    </tr>\n",
       "    <tr>\n",
       "      <th>4</th>\n",
       "      <td>video10.webm</td>\n",
       "      <td>0.950</td>\n",
       "      <td>0.900</td>\n",
       "      <td>0.000090</td>\n",
       "      <td>0.000615</td>\n",
       "      <td>0.003436</td>\n",
       "      <td>0.001281</td>\n",
       "      <td>0.003551</td>\n",
       "      <td>0.000313</td>\n",
       "      <td>0.000042</td>\n",
       "      <td>...</td>\n",
       "      <td>0.000037</td>\n",
       "      <td>0.000690</td>\n",
       "      <td>0.000171</td>\n",
       "      <td>0.000231</td>\n",
       "      <td>0.000637</td>\n",
       "      <td>0.000040</td>\n",
       "      <td>0.000061</td>\n",
       "      <td>0.000075</td>\n",
       "      <td>0.000002</td>\n",
       "      <td>0.001323</td>\n",
       "    </tr>\n",
       "  </tbody>\n",
       "</table>\n",
       "<p>5 rows × 104 columns</p>\n",
       "</div>"
      ],
      "text/plain": [
       "          video  short-term_memorability  long-term_memorability         0  \\\n",
       "0   video3.webm                    0.924                   0.846  0.020249   \n",
       "1   video4.webm                    0.923                   0.667  0.000118   \n",
       "2   video6.webm                    0.863                   0.700  0.011765   \n",
       "3   video8.webm                    0.922                   0.818  0.000223   \n",
       "4  video10.webm                    0.950                   0.900  0.000090   \n",
       "\n",
       "          1         2         3         4         5         6    ...     \\\n",
       "0  0.001578  0.000826  0.000945  0.000063  0.000003  0.001162    ...      \n",
       "1  0.000891  0.000188  0.000045  0.000063  0.000002  0.000641    ...      \n",
       "2  0.000746  0.000784  0.000013  0.000007  0.000028  0.000041    ...      \n",
       "3  0.000165  0.000007  0.000016  0.000005  0.000014  0.000154    ...      \n",
       "4  0.000615  0.003436  0.001281  0.003551  0.000313  0.000042    ...      \n",
       "\n",
       "         91        92        93        94        95        96        97  \\\n",
       "0  0.001042  0.000161  0.000257  0.046617  0.000156  0.000006  0.000537   \n",
       "1  0.000582  0.000393  0.000864  0.000947  0.000136  0.000007  0.000360   \n",
       "2  0.000224  0.000003  0.000031  0.002538  0.000104  0.000005  0.000064   \n",
       "3  0.000046  0.000009  0.000023  0.000053  0.000048  0.000019  0.000001   \n",
       "4  0.000037  0.000690  0.000171  0.000231  0.000637  0.000040  0.000061   \n",
       "\n",
       "         98        99       100  \n",
       "0  0.000339  0.008437  0.000470  \n",
       "1  0.000159  0.001025  0.000020  \n",
       "2  0.005380  0.001027  0.001384  \n",
       "3  0.000004  0.000380  0.000029  \n",
       "4  0.000075  0.000002  0.001323  \n",
       "\n",
       "[5 rows x 104 columns]"
      ]
     },
     "execution_count": 27,
     "metadata": {},
     "output_type": "execute_result"
    }
   ],
   "source": [
    "c3d_df.head()"
   ]
  },
  {
   "cell_type": "markdown",
   "metadata": {},
   "source": [
    "locking the feature attributes onlt from the dataframe"
   ]
  },
  {
   "cell_type": "code",
   "execution_count": 28,
   "metadata": {},
   "outputs": [],
   "source": [
    "c3d_features = c3d_df.iloc[:,3:104].values"
   ]
  },
  {
   "cell_type": "code",
   "execution_count": 29,
   "metadata": {},
   "outputs": [
    {
     "data": {
      "text/plain": [
       "(6000, 101)"
      ]
     },
     "execution_count": 29,
     "metadata": {},
     "output_type": "execute_result"
    }
   ],
   "source": [
    "c3d_features.shape"
   ]
  },
  {
   "cell_type": "markdown",
   "metadata": {},
   "source": [
    "The training set C3D features are ready now and they can now be used into model directly."
   ]
  },
  {
   "cell_type": "markdown",
   "metadata": {},
   "source": [
    "<font style=\"font-size:25px;text-align:center;\">**Defining Get_Score method to calculate the Spearmen's Score**</font>"
   ]
  },
  {
   "cell_type": "code",
   "execution_count": 30,
   "metadata": {},
   "outputs": [],
   "source": [
    "def Get_score(Y_pred,Y_true):\n",
    "    '''Calculate the Spearmann\"s correlation coefficient'''\n",
    "    Y_pred = np.squeeze(Y_pred)\n",
    "    Y_true = np.squeeze(Y_true)\n",
    "    if Y_pred.shape != Y_true.shape:\n",
    "        print('Input shapes don\\'t match!')\n",
    "    else:\n",
    "        if len(Y_pred.shape) == 1:\n",
    "            Res = pd.DataFrame({'Y_true':Y_true,'Y_pred':Y_pred})\n",
    "            score_mat = Res[['Y_true','Y_pred']].corr(method='spearman',min_periods=1)\n",
    "            print('The Spearman\\'s correlation coefficient is: %.3f' % score_mat.iloc[1][0])\n",
    "        else:\n",
    "            for ii in range(Y_pred.shape[1]):\n",
    "                Get_score(Y_pred[:,ii],Y_true[:,ii])"
   ]
  },
  {
   "cell_type": "markdown",
   "metadata": {},
   "source": [
    "<font style=\"font-size:25px;text-align:center;\">***Building the Models***</font>"
   ]
  },
  {
   "cell_type": "markdown",
   "metadata": {},
   "source": [
    "<font style=\"font-size:20px;text-align:center;\">***Using C3D features alone***</font>"
   ]
  },
  {
   "cell_type": "markdown",
   "metadata": {},
   "source": [
    "Inputting the data into X and Y variables"
   ]
  },
  {
   "cell_type": "code",
   "execution_count": 138,
   "metadata": {},
   "outputs": [],
   "source": [
    "X = c3d_features\n",
    "y = ground_truth.iloc[:, 1:3].values"
   ]
  },
  {
   "cell_type": "markdown",
   "metadata": {},
   "source": [
    "Splitting the dataset into the Training set and Test set"
   ]
  },
  {
   "cell_type": "code",
   "execution_count": 139,
   "metadata": {},
   "outputs": [],
   "source": [
    "from sklearn.model_selection import train_test_split\n",
    "X_train, X_test, y_train, y_test = train_test_split(X, y, test_size = 0.20)"
   ]
  },
  {
   "cell_type": "markdown",
   "metadata": {},
   "source": [
    "Using Linear Regression Model on C3D"
   ]
  },
  {
   "cell_type": "code",
   "execution_count": 140,
   "metadata": {},
   "outputs": [
    {
     "data": {
      "text/plain": [
       "LinearRegression(copy_X=True, fit_intercept=True, n_jobs=1, normalize=False)"
      ]
     },
     "execution_count": 140,
     "metadata": {},
     "output_type": "execute_result"
    }
   ],
   "source": [
    "from sklearn.linear_model import LinearRegression\n",
    "LMregressor = LinearRegression()\n",
    "LMregressor.fit(X_train, y_train)"
   ]
  },
  {
   "cell_type": "code",
   "execution_count": 141,
   "metadata": {},
   "outputs": [
    {
     "name": "stdout",
     "output_type": "stream",
     "text": [
      "The Spearman's correlation coefficient is: 0.280\n",
      "The Spearman's correlation coefficient is: 0.126\n"
     ]
    }
   ],
   "source": [
    "y_pred = LMregressor.predict(X_test)\n",
    "Get_score(y_pred, y_test)"
   ]
  },
  {
   "cell_type": "markdown",
   "metadata": {},
   "source": [
    "Using Decision Tree Regression Model on C3D"
   ]
  },
  {
   "cell_type": "code",
   "execution_count": 142,
   "metadata": {},
   "outputs": [
    {
     "data": {
      "text/plain": [
       "DecisionTreeRegressor(criterion='mse', max_depth=None, max_features=None,\n",
       "           max_leaf_nodes=None, min_impurity_decrease=0.0,\n",
       "           min_impurity_split=None, min_samples_leaf=1,\n",
       "           min_samples_split=2, min_weight_fraction_leaf=0.0,\n",
       "           presort=False, random_state=None, splitter='best')"
      ]
     },
     "execution_count": 142,
     "metadata": {},
     "output_type": "execute_result"
    }
   ],
   "source": [
    "from sklearn.tree import DecisionTreeRegressor\n",
    "DTregressor = DecisionTreeRegressor()\n",
    "DTregressor.fit(X_train, y_train)"
   ]
  },
  {
   "cell_type": "code",
   "execution_count": 143,
   "metadata": {},
   "outputs": [
    {
     "name": "stdout",
     "output_type": "stream",
     "text": [
      "The Spearman's correlation coefficient is: 0.098\n",
      "The Spearman's correlation coefficient is: 0.006\n"
     ]
    }
   ],
   "source": [
    "y_pred = DTregressor.predict(X_test)\n",
    "Get_score(y_pred, y_test)"
   ]
  },
  {
   "cell_type": "markdown",
   "metadata": {},
   "source": [
    "Fitting Random Forest Regression model on C3D"
   ]
  },
  {
   "cell_type": "code",
   "execution_count": 42,
   "metadata": {},
   "outputs": [
    {
     "data": {
      "text/plain": [
       "RandomForestRegressor(bootstrap=True, criterion='mse', max_depth=None,\n",
       "           max_features='auto', max_leaf_nodes=None,\n",
       "           min_impurity_decrease=0.0, min_impurity_split=None,\n",
       "           min_samples_leaf=1, min_samples_split=2,\n",
       "           min_weight_fraction_leaf=0.0, n_estimators=10, n_jobs=1,\n",
       "           oob_score=False, random_state=None, verbose=0, warm_start=False)"
      ]
     },
     "execution_count": 42,
     "metadata": {},
     "output_type": "execute_result"
    }
   ],
   "source": [
    "from sklearn.ensemble import RandomForestRegressor\n",
    "RFregressor = RandomForestRegressor(n_estimators=500)\n",
    "RFregressor.fit(X_train, y_train)"
   ]
  },
  {
   "cell_type": "markdown",
   "metadata": {},
   "source": [
    "Predicting the values using the trained model"
   ]
  },
  {
   "cell_type": "code",
   "execution_count": 43,
   "metadata": {},
   "outputs": [
    {
     "name": "stdout",
     "output_type": "stream",
     "text": [
      "The Spearman's correlation coefficient is: 0.260\n",
      "The Spearman's correlation coefficient is: 0.094\n"
     ]
    }
   ],
   "source": [
    "y_pred = RFregressor.predict(X_test)\n",
    "Get_score(y_pred, y_test)"
   ]
  },
  {
   "cell_type": "markdown",
   "metadata": {},
   "source": [
    "Visualizing the results"
   ]
  },
  {
   "cell_type": "code",
   "execution_count": 144,
   "metadata": {},
   "outputs": [],
   "source": [
    "#Storing the predicted results into a dataframe \n",
    "pred = pd.DataFrame(np.array(y_pred).reshape(1200,2), columns = (\"shortPred\",\"longPred\"))"
   ]
  },
  {
   "cell_type": "code",
   "execution_count": 145,
   "metadata": {},
   "outputs": [],
   "source": [
    "#Storing the actual test set values into a dataframe\n",
    "actual = pd.DataFrame(np.array(y_test).reshape(1200,2), columns = (\"shortActual\",\"longActual\"))"
   ]
  },
  {
   "cell_type": "markdown",
   "metadata": {},
   "source": [
    "plotting the Actual vs Predicited for Short Term Memorability"
   ]
  },
  {
   "cell_type": "code",
   "execution_count": 148,
   "metadata": {},
   "outputs": [
    {
     "data": {
      "image/png": "[encoded data removed]",
      "text/plain": [
       "<Figure size 432x288 with 1 Axes>"
      ]
     },
     "metadata": {},
     "output_type": "display_data"
    }
   ],
   "source": [
    "xTest = range(1,1201)\n",
    "plt.scatter(xTest, actual[\"shortActual\"], color = 'red')\n",
    "plt.plot(xTest, pred[\"shortPred\"], color = 'blue')\n",
    "plt.title('Actual vs Predicted Using C3D with Decision Tree')\n",
    "plt.xlabel('videos')\n",
    "plt.ylabel('Short Term Memorability')\n",
    "plt.show()"
   ]
  },
  {
   "cell_type": "markdown",
   "metadata": {},
   "source": [
    "plotting the Actual vs Predicited for Long Term Memorability"
   ]
  },
  {
   "cell_type": "code",
   "execution_count": 147,
   "metadata": {},
   "outputs": [
    {
     "data": {
      "image/png": "[encoded data removed]",
      "text/plain": [
       "<Figure size 432x288 with 1 Axes>"
      ]
     },
     "metadata": {},
     "output_type": "display_data"
    }
   ],
   "source": [
    "xTest = range(1,1201)\n",
    "plt.scatter(xTest, actual[\"longActual\"], color = 'red')\n",
    "plt.plot(xTest, pred[\"longPred\"], color = 'blue')\n",
    "plt.title('Actual vs Predicted Using C3D with Decision Tree')\n",
    "plt.xlabel('videos')\n",
    "plt.ylabel('Long Term Memorability')\n",
    "plt.show()"
   ]
  },
  {
   "cell_type": "markdown",
   "metadata": {},
   "source": [
    "Fitting ANN model on C3D alone"
   ]
  },
  {
   "cell_type": "code",
   "execution_count": 41,
   "metadata": {
    "scrolled": true
   },
   "outputs": [
    {
     "name": "stdout",
     "output_type": "stream",
     "text": [
      "Requirement already satisfied: pyprind in /Users/swathikiran/anaconda3/lib/python3.6/site-packages (2.11.2)\n",
      "\u001b[31mdistributed 1.21.8 requires msgpack, which is not installed.\u001b[0m\n",
      "\u001b[33mYou are using pip version 10.0.1, however version 19.0.3 is available.\n",
      "You should consider upgrading via the 'pip install --upgrade pip' command.\u001b[0m\n"
     ]
    }
   ],
   "source": [
    "!pip install pyprind"
   ]
  },
  {
   "cell_type": "code",
   "execution_count": 42,
   "metadata": {},
   "outputs": [
    {
     "name": "stderr",
     "output_type": "stream",
     "text": [
      "/Users/swathikiran/anaconda3/lib/python3.6/site-packages/h5py/__init__.py:36: FutureWarning: Conversion of the second argument of issubdtype from `float` to `np.floating` is deprecated. In future, it will be treated as `np.float64 == np.dtype(float).type`.\n",
      "  from ._conv import register_converters as _register_converters\n",
      "Using TensorFlow backend.\n"
     ]
    }
   ],
   "source": [
    "from keras import Sequential\n",
    "from keras import layers\n",
    "from keras import regularizers\n",
    "import pyprind\n",
    "from collections import Counter"
   ]
  },
  {
   "cell_type": "code",
   "execution_count": 45,
   "metadata": {},
   "outputs": [
    {
     "data": {
      "text/plain": [
       "(6000, 101)"
      ]
     },
     "execution_count": 45,
     "metadata": {},
     "output_type": "execute_result"
    }
   ],
   "source": [
    "c3d_features.shape"
   ]
  },
  {
   "cell_type": "code",
   "execution_count": 46,
   "metadata": {},
   "outputs": [],
   "source": [
    "max_len =101"
   ]
  },
  {
   "cell_type": "code",
   "execution_count": 47,
   "metadata": {},
   "outputs": [],
   "source": [
    "X = c3d_features\n",
    "y = ground_truth.iloc[:, 1:3].values"
   ]
  },
  {
   "cell_type": "code",
   "execution_count": 49,
   "metadata": {},
   "outputs": [],
   "source": [
    "X_train, X_test, Y_train, Y_test = train_test_split(X,y, test_size=0.2)"
   ]
  },
  {
   "cell_type": "markdown",
   "metadata": {},
   "source": [
    "Building a sequntial model with 2 layers."
   ]
  },
  {
   "cell_type": "code",
   "execution_count": 50,
   "metadata": {
    "scrolled": true
   },
   "outputs": [
    {
     "name": "stdout",
     "output_type": "stream",
     "text": [
      "Train on 4800 samples, validate on 1200 samples\n",
      "Epoch 1/10\n",
      "4800/4800 [==============================] - 1s 275us/step - loss: 0.0884 - acc: 0.6475 - val_loss: 0.0264 - val_acc: 0.7200\n",
      "Epoch 2/10\n",
      "4800/4800 [==============================] - 1s 119us/step - loss: 0.0205 - acc: 0.6992 - val_loss: 0.0147 - val_acc: 0.7200\n",
      "Epoch 3/10\n",
      "4800/4800 [==============================] - 1s 112us/step - loss: 0.0157 - acc: 0.7015 - val_loss: 0.0138 - val_acc: 0.7200\n",
      "Epoch 4/10\n",
      "4800/4800 [==============================] - 1s 115us/step - loss: 0.0150 - acc: 0.7013 - val_loss: 0.0136 - val_acc: 0.7200\n",
      "Epoch 5/10\n",
      "4800/4800 [==============================] - 1s 112us/step - loss: 0.0147 - acc: 0.7010 - val_loss: 0.0136 - val_acc: 0.7200\n",
      "Epoch 6/10\n",
      "4800/4800 [==============================] - 1s 118us/step - loss: 0.0147 - acc: 0.7010 - val_loss: 0.0136 - val_acc: 0.7200\n",
      "Epoch 7/10\n",
      "4800/4800 [==============================] - 1s 112us/step - loss: 0.0147 - acc: 0.7010 - val_loss: 0.0135 - val_acc: 0.7200\n",
      "Epoch 8/10\n",
      "4800/4800 [==============================] - 1s 127us/step - loss: 0.0146 - acc: 0.7010 - val_loss: 0.0136 - val_acc: 0.7200\n",
      "Epoch 9/10\n",
      "4800/4800 [==============================] - 1s 143us/step - loss: 0.0144 - acc: 0.7010 - val_loss: 0.0136 - val_acc: 0.7200\n",
      "Epoch 10/10\n",
      "4800/4800 [==============================] - 1s 123us/step - loss: 0.0144 - acc: 0.7010 - val_loss: 0.0135 - val_acc: 0.7200\n"
     ]
    }
   ],
   "source": [
    "model = Sequential()\n",
    "model.add(layers.Dense(64,activation='relu',kernel_regularizer=regularizers.l2(0.001),input_shape=(max_len,)))\n",
    "model.add(layers.Dropout(0.6))\n",
    "model.add(layers.Dense(64,activation='relu',kernel_regularizer=regularizers.l2(0.001)))\n",
    "model.add(layers.Dropout(0.5))\n",
    "model.add(layers.Dense(2,activation='sigmoid'))\n",
    "\n",
    "# compile the model \n",
    "model.compile(optimizer='rmsprop',loss='mse',metrics=['accuracy'])\n",
    "\n",
    "# training the model \n",
    "history = model.fit(X_train,Y_train,epochs=10,validation_data=(X_test,Y_test))\n"
   ]
  },
  {
   "cell_type": "code",
   "execution_count": 51,
   "metadata": {},
   "outputs": [
    {
     "name": "stdout",
     "output_type": "stream",
     "text": [
      "The Spearman's correlation coefficient is: 0.227\n",
      "The Spearman's correlation coefficient is: 0.130\n"
     ]
    }
   ],
   "source": [
    "y_pred = model.predict(X_test)\n",
    "Get_score(y_pred, Y_test)"
   ]
  },
  {
   "cell_type": "markdown",
   "metadata": {},
   "source": [
    "After changing the number of trees in the Random Forest method it is noticed that maximum accuracy is achieved with 500 trees."
   ]
  },
  {
   "cell_type": "markdown",
   "metadata": {},
   "source": [
    "<font style=\"font-size:20px;text-align:center;\">***Using Caption features alone***</font>"
   ]
  },
  {
   "cell_type": "markdown",
   "metadata": {},
   "source": [
    "Inputting the data into X and Y variables"
   ]
  },
  {
   "cell_type": "code",
   "execution_count": 52,
   "metadata": {},
   "outputs": [],
   "source": [
    "X = caption_features\n",
    "y = ground_truth.iloc[:, 1:3].values"
   ]
  },
  {
   "cell_type": "markdown",
   "metadata": {},
   "source": [
    "Splitting the dataset into the Training set and Test set"
   ]
  },
  {
   "cell_type": "code",
   "execution_count": 53,
   "metadata": {},
   "outputs": [],
   "source": [
    "from sklearn.model_selection import train_test_split\n",
    "X_train, X_test, y_train, y_test = train_test_split(X, y, test_size = 0.20)"
   ]
  },
  {
   "cell_type": "markdown",
   "metadata": {},
   "source": [
    "Using Linear Regression Model on Captions"
   ]
  },
  {
   "cell_type": "code",
   "execution_count": 54,
   "metadata": {},
   "outputs": [
    {
     "data": {
      "text/plain": [
       "LinearRegression(copy_X=True, fit_intercept=True, n_jobs=1, normalize=False)"
      ]
     },
     "execution_count": 54,
     "metadata": {},
     "output_type": "execute_result"
    }
   ],
   "source": [
    "from sklearn.linear_model import LinearRegression\n",
    "LMregressor = LinearRegression()\n",
    "LMregressor.fit(X_train, y_train)"
   ]
  },
  {
   "cell_type": "code",
   "execution_count": 55,
   "metadata": {},
   "outputs": [
    {
     "name": "stdout",
     "output_type": "stream",
     "text": [
      "The Spearman's correlation coefficient is: 0.093\n",
      "The Spearman's correlation coefficient is: 0.054\n"
     ]
    }
   ],
   "source": [
    "y_pred = LMregressor.predict(X_test)\n",
    "Get_score(y_pred, y_test)"
   ]
  },
  {
   "cell_type": "markdown",
   "metadata": {},
   "source": [
    "Using Decision Tree Regression Model on Captions"
   ]
  },
  {
   "cell_type": "code",
   "execution_count": 56,
   "metadata": {},
   "outputs": [
    {
     "data": {
      "text/plain": [
       "DecisionTreeRegressor(criterion='mse', max_depth=None, max_features=None,\n",
       "           max_leaf_nodes=None, min_impurity_decrease=0.0,\n",
       "           min_impurity_split=None, min_samples_leaf=1,\n",
       "           min_samples_split=2, min_weight_fraction_leaf=0.0,\n",
       "           presort=False, random_state=None, splitter='best')"
      ]
     },
     "execution_count": 56,
     "metadata": {},
     "output_type": "execute_result"
    }
   ],
   "source": [
    "from sklearn.tree import DecisionTreeRegressor\n",
    "DTregressor = DecisionTreeRegressor()\n",
    "DTregressor.fit(X_train, y_train)"
   ]
  },
  {
   "cell_type": "code",
   "execution_count": 57,
   "metadata": {},
   "outputs": [
    {
     "name": "stdout",
     "output_type": "stream",
     "text": [
      "The Spearman's correlation coefficient is: 0.237\n",
      "The Spearman's correlation coefficient is: 0.132\n"
     ]
    }
   ],
   "source": [
    "y_pred = DTregressor.predict(X_test)\n",
    "Get_score(y_pred, y_test)"
   ]
  },
  {
   "cell_type": "markdown",
   "metadata": {},
   "source": [
    "Fitting Random Forest Regression model on Captions"
   ]
  },
  {
   "cell_type": "code",
   "execution_count": 58,
   "metadata": {},
   "outputs": [
    {
     "data": {
      "text/plain": [
       "RandomForestRegressor(bootstrap=True, criterion='mse', max_depth=None,\n",
       "           max_features='auto', max_leaf_nodes=None,\n",
       "           min_impurity_decrease=0.0, min_impurity_split=None,\n",
       "           min_samples_leaf=1, min_samples_split=2,\n",
       "           min_weight_fraction_leaf=0.0, n_estimators=10, n_jobs=1,\n",
       "           oob_score=False, random_state=None, verbose=0, warm_start=False)"
      ]
     },
     "execution_count": 58,
     "metadata": {},
     "output_type": "execute_result"
    }
   ],
   "source": [
    "from sklearn.ensemble import RandomForestRegressor\n",
    "RFregressor = RandomForestRegressor()\n",
    "RFregressor.fit(X_train, y_train)"
   ]
  },
  {
   "cell_type": "code",
   "execution_count": 59,
   "metadata": {},
   "outputs": [
    {
     "name": "stdout",
     "output_type": "stream",
     "text": [
      "The Spearman's correlation coefficient is: 0.335\n",
      "The Spearman's correlation coefficient is: 0.167\n"
     ]
    }
   ],
   "source": [
    "y_pred = RFregressor.predict(X_test)\n",
    "Get_score(y_pred, y_test)"
   ]
  },
  {
   "cell_type": "markdown",
   "metadata": {},
   "source": [
    "After chnaging the vaklues for number of tress used for training the accuracy scored varied"
   ]
  },
  {
   "cell_type": "markdown",
   "metadata": {},
   "source": [
    "***Using TFIDF score instead of count vectorizer***"
   ]
  },
  {
   "cell_type": "code",
   "execution_count": 60,
   "metadata": {},
   "outputs": [],
   "source": [
    "#Using tf instead of cv object\n",
    "captions_tfidf_features = tf.fit_transform(cleaned_captions).toarray()\n",
    "X= captions_tfidf_features\n",
    "y = ground_truth.iloc[:, 1:3].values"
   ]
  },
  {
   "cell_type": "markdown",
   "metadata": {},
   "source": [
    "Splitting the dataset into the Training set and Test set"
   ]
  },
  {
   "cell_type": "code",
   "execution_count": 61,
   "metadata": {},
   "outputs": [],
   "source": [
    "from sklearn.model_selection import train_test_split\n",
    "X_train, X_test, y_train, y_test = train_test_split(X, y, test_size = 0.20)"
   ]
  },
  {
   "cell_type": "markdown",
   "metadata": {},
   "source": [
    "Using Linear Regression Model on Captions with TFIDF"
   ]
  },
  {
   "cell_type": "code",
   "execution_count": 62,
   "metadata": {},
   "outputs": [
    {
     "data": {
      "text/plain": [
       "LinearRegression(copy_X=True, fit_intercept=True, n_jobs=1, normalize=False)"
      ]
     },
     "execution_count": 62,
     "metadata": {},
     "output_type": "execute_result"
    }
   ],
   "source": [
    "from sklearn.linear_model import LinearRegression\n",
    "LMregressor = LinearRegression()\n",
    "LMregressor.fit(X_train, y_train)"
   ]
  },
  {
   "cell_type": "code",
   "execution_count": 63,
   "metadata": {},
   "outputs": [
    {
     "name": "stdout",
     "output_type": "stream",
     "text": [
      "The Spearman's correlation coefficient is: 0.064\n",
      "The Spearman's correlation coefficient is: 0.030\n"
     ]
    }
   ],
   "source": [
    "y_pred = LMregressor.predict(X_test)\n",
    "Get_score(y_pred, y_test)"
   ]
  },
  {
   "cell_type": "markdown",
   "metadata": {},
   "source": [
    "Using Decision Tree Regression Model on Captions with TFIDF"
   ]
  },
  {
   "cell_type": "code",
   "execution_count": 64,
   "metadata": {},
   "outputs": [
    {
     "data": {
      "text/plain": [
       "DecisionTreeRegressor(criterion='mse', max_depth=None, max_features=None,\n",
       "           max_leaf_nodes=None, min_impurity_decrease=0.0,\n",
       "           min_impurity_split=None, min_samples_leaf=1,\n",
       "           min_samples_split=2, min_weight_fraction_leaf=0.0,\n",
       "           presort=False, random_state=None, splitter='best')"
      ]
     },
     "execution_count": 64,
     "metadata": {},
     "output_type": "execute_result"
    }
   ],
   "source": [
    "from sklearn.tree import DecisionTreeRegressor\n",
    "DTregressor = DecisionTreeRegressor()\n",
    "DTregressor.fit(X_train, y_train)"
   ]
  },
  {
   "cell_type": "code",
   "execution_count": 65,
   "metadata": {},
   "outputs": [
    {
     "name": "stdout",
     "output_type": "stream",
     "text": [
      "The Spearman's correlation coefficient is: 0.225\n",
      "The Spearman's correlation coefficient is: 0.056\n"
     ]
    }
   ],
   "source": [
    "y_pred = DTregressor.predict(X_test)\n",
    "Get_score(y_pred, y_test)"
   ]
  },
  {
   "cell_type": "markdown",
   "metadata": {},
   "source": [
    "Fitting Random Forest Regression model on Captions with TFIDF"
   ]
  },
  {
   "cell_type": "code",
   "execution_count": 151,
   "metadata": {},
   "outputs": [
    {
     "data": {
      "text/plain": [
       "RandomForestRegressor(bootstrap=True, criterion='mse', max_depth=None,\n",
       "           max_features='auto', max_leaf_nodes=None,\n",
       "           min_impurity_decrease=0.0, min_impurity_split=None,\n",
       "           min_samples_leaf=1, min_samples_split=2,\n",
       "           min_weight_fraction_leaf=0.0, n_estimators=500, n_jobs=1,\n",
       "           oob_score=False, random_state=None, verbose=0, warm_start=False)"
      ]
     },
     "execution_count": 151,
     "metadata": {},
     "output_type": "execute_result"
    }
   ],
   "source": [
    "from sklearn.ensemble import RandomForestRegressor\n",
    "RFregressor = RandomForestRegressor(n_estimators = 500)\n",
    "RFregressor.fit(X_train, y_train)"
   ]
  },
  {
   "cell_type": "code",
   "execution_count": 152,
   "metadata": {},
   "outputs": [
    {
     "name": "stdout",
     "output_type": "stream",
     "text": [
      "The Spearman's correlation coefficient is: 0.304\n",
      "The Spearman's correlation coefficient is: 0.116\n"
     ]
    }
   ],
   "source": [
    "y_pred = RFregressor.predict(X_test)\n",
    "Get_score(y_pred, y_test)"
   ]
  },
  {
   "cell_type": "markdown",
   "metadata": {},
   "source": [
    "Visualizing the results for Captions with TFIDF"
   ]
  },
  {
   "cell_type": "code",
   "execution_count": 149,
   "metadata": {},
   "outputs": [],
   "source": [
    "#Storing the predicted results into a dataframe \n",
    "pred = pd.DataFrame(np.array(y_pred).reshape(1200,2), columns = (\"shortPred\",\"longPred\"))"
   ]
  },
  {
   "cell_type": "code",
   "execution_count": 150,
   "metadata": {},
   "outputs": [],
   "source": [
    "#Storing the actual test set values into a dataframe\n",
    "actual = pd.DataFrame(np.array(y_test).reshape(1200,2), columns = (\"shortActual\",\"longActual\"))"
   ]
  },
  {
   "cell_type": "markdown",
   "metadata": {},
   "source": [
    "plotting the Actual vs Predicited for Short Term Memorability"
   ]
  },
  {
   "cell_type": "code",
   "execution_count": 148,
   "metadata": {},
   "outputs": [
    {
     "data": {
      "image/png": "[encoded data removed]",
      "text/plain": [
       "<Figure size 432x288 with 1 Axes>"
      ]
     },
     "metadata": {},
     "output_type": "display_data"
    }
   ],
   "source": [
    "xTest = range(1,1201)\n",
    "plt.scatter(xTest, actual[\"shortActual\"], color = 'red')\n",
    "plt.plot(xTest, pred[\"shortPred\"], color = 'blue')\n",
    "plt.title('Actual vs Predicted Using Captions with TFIDF Scores in Random Forest Regressor')\n",
    "plt.xlabel('videos')\n",
    "plt.ylabel('Short Term Memorability')\n",
    "plt.show()"
   ]
  },
  {
   "cell_type": "markdown",
   "metadata": {},
   "source": [
    "plotting the Actual vs Predicited for Long Term Memorability"
   ]
  },
  {
   "cell_type": "code",
   "execution_count": 147,
   "metadata": {},
   "outputs": [
    {
     "data": {
      "image/png": "[encoded data removed]",
      "text/plain": [
       "<Figure size 432x288 with 1 Axes>"
      ]
     },
     "metadata": {},
     "output_type": "display_data"
    }
   ],
   "source": [
    "xTest = range(1,1201)\n",
    "plt.scatter(xTest, actual[\"longActual\"], color = 'red')\n",
    "plt.plot(xTest, pred[\"longPred\"], color = 'blue')\n",
    "plt.title('Actual vs Predicted Using Captions with TFIDF Scores in Random Forest Regressor')\n",
    "plt.xlabel('videos')\n",
    "plt.ylabel('Long Term Memorability')\n",
    "plt.show()"
   ]
  },
  {
   "cell_type": "markdown",
   "metadata": {},
   "source": [
    "Using ANN Sequential Model on Captions with TFIDF"
   ]
  },
  {
   "cell_type": "code",
   "execution_count": 69,
   "metadata": {
    "scrolled": true
   },
   "outputs": [
    {
     "name": "stdout",
     "output_type": "stream",
     "text": [
      "Requirement already satisfied: pyprind in /Users/swathikiran/anaconda3/lib/python3.6/site-packages (2.11.2)\n",
      "\u001b[31mdistributed 1.21.8 requires msgpack, which is not installed.\u001b[0m\n",
      "\u001b[33mYou are using pip version 10.0.1, however version 19.0.3 is available.\n",
      "You should consider upgrading via the 'pip install --upgrade pip' command.\u001b[0m\n"
     ]
    }
   ],
   "source": [
    "!pip install pyprind"
   ]
  },
  {
   "cell_type": "code",
   "execution_count": 70,
   "metadata": {},
   "outputs": [],
   "source": [
    "from keras import Sequential\n",
    "from keras import layers\n",
    "from keras import regularizers\n",
    "import pyprind\n",
    "from collections import Counter"
   ]
  },
  {
   "cell_type": "code",
   "execution_count": 71,
   "metadata": {},
   "outputs": [
    {
     "data": {
      "text/plain": [
       "(6000, 5087)"
      ]
     },
     "execution_count": 71,
     "metadata": {},
     "output_type": "execute_result"
    }
   ],
   "source": [
    "captions_tfidf_features.shape"
   ]
  },
  {
   "cell_type": "code",
   "execution_count": 73,
   "metadata": {},
   "outputs": [],
   "source": [
    "max_len =5087"
   ]
  },
  {
   "cell_type": "code",
   "execution_count": 74,
   "metadata": {},
   "outputs": [],
   "source": [
    "X = captions_tfidf_features\n",
    "y = ground_truth.iloc[:, 1:3].values"
   ]
  },
  {
   "cell_type": "code",
   "execution_count": 75,
   "metadata": {},
   "outputs": [],
   "source": [
    "X_train, X_test, Y_train, Y_test = train_test_split(X,y, test_size=0.2)"
   ]
  },
  {
   "cell_type": "markdown",
   "metadata": {},
   "source": [
    "Building a sequntial model with 2 layers."
   ]
  },
  {
   "cell_type": "code",
   "execution_count": 78,
   "metadata": {},
   "outputs": [
    {
     "name": "stdout",
     "output_type": "stream",
     "text": [
      "Train on 4800 samples, validate on 1200 samples\n",
      "Epoch 1/10\n",
      "4800/4800 [==============================] - 4s 741us/step - loss: 0.0815 - acc: 0.6562 - val_loss: 0.0252 - val_acc: 0.6925\n",
      "Epoch 2/10\n",
      "4800/4800 [==============================] - 2s 502us/step - loss: 0.0219 - acc: 0.7004 - val_loss: 0.0154 - val_acc: 0.6925\n",
      "Epoch 3/10\n",
      "4800/4800 [==============================] - 2s 497us/step - loss: 0.0168 - acc: 0.7052 - val_loss: 0.0140 - val_acc: 0.6925\n",
      "Epoch 4/10\n",
      "4800/4800 [==============================] - 2s 502us/step - loss: 0.0159 - acc: 0.7067 - val_loss: 0.0136 - val_acc: 0.6925\n",
      "Epoch 5/10\n",
      "4800/4800 [==============================] - 3s 528us/step - loss: 0.0155 - acc: 0.7062 - val_loss: 0.0134 - val_acc: 0.6925\n",
      "Epoch 6/10\n",
      "4800/4800 [==============================] - 2s 498us/step - loss: 0.0150 - acc: 0.7075 - val_loss: 0.0133 - val_acc: 0.6925\n",
      "Epoch 7/10\n",
      "4800/4800 [==============================] - 2s 502us/step - loss: 0.0151 - acc: 0.7079 - val_loss: 0.0133 - val_acc: 0.6925\n",
      "Epoch 8/10\n",
      "4800/4800 [==============================] - 2s 506us/step - loss: 0.0149 - acc: 0.7079 - val_loss: 0.0133 - val_acc: 0.6925\n",
      "Epoch 9/10\n",
      "4800/4800 [==============================] - 3s 581us/step - loss: 0.0151 - acc: 0.7081 - val_loss: 0.0133 - val_acc: 0.6925\n",
      "Epoch 10/10\n",
      "4800/4800 [==============================] - 3s 523us/step - loss: 0.0150 - acc: 0.7079 - val_loss: 0.0133 - val_acc: 0.6925\n"
     ]
    }
   ],
   "source": [
    "model = Sequential()\n",
    "model.add(layers.Dense(64,activation='relu',kernel_regularizer=regularizers.l2(0.001),input_shape=(max_len,)))\n",
    "model.add(layers.Dropout(0.6))\n",
    "model.add(layers.Dense(64,activation='relu',kernel_regularizer=regularizers.l2(0.001)))\n",
    "model.add(layers.Dropout(0.5))\n",
    "model.add(layers.Dense(2,activation='sigmoid'))\n",
    "\n",
    "# compile the model \n",
    "model.compile(optimizer='adam',loss='mse',metrics=['accuracy'])\n",
    "\n",
    "# training the model \n",
    "history = model.fit(X_train,Y_train,epochs=10,validation_data=(X_test,Y_test))\n"
   ]
  },
  {
   "cell_type": "code",
   "execution_count": 79,
   "metadata": {},
   "outputs": [
    {
     "name": "stdout",
     "output_type": "stream",
     "text": [
      "The Spearman's correlation coefficient is: 0.320\n",
      "The Spearman's correlation coefficient is: 0.174\n"
     ]
    }
   ],
   "source": [
    "y_pred = model.predict(X_test)\n",
    "Get_score(y_pred, Y_test)"
   ]
  },
  {
   "cell_type": "markdown",
   "metadata": {},
   "source": [
    "TFIDF gave better results compared to word count vectorizer in Random Forest Regression"
   ]
  },
  {
   "cell_type": "markdown",
   "metadata": {},
   "source": [
    "<font style=\"font-size:20px;text-align:center;\">***Using Captions and C3D features together***</font>"
   ]
  },
  {
   "cell_type": "markdown",
   "metadata": {},
   "source": [
    "Merging both the caption features and C3D features "
   ]
  },
  {
   "cell_type": "code",
   "execution_count": 80,
   "metadata": {},
   "outputs": [],
   "source": [
    "#Using Count vector features\n",
    "c3dAndCaption_features = np.concatenate((caption_features, c3d_features), axis=1)"
   ]
  },
  {
   "cell_type": "code",
   "execution_count": 81,
   "metadata": {},
   "outputs": [],
   "source": [
    "#Using TFIDF features\n",
    "c3dAndCaption_features = np.concatenate((captions_tfidf_features, c3d_features), axis=1)"
   ]
  },
  {
   "cell_type": "code",
   "execution_count": 82,
   "metadata": {},
   "outputs": [
    {
     "data": {
      "text/plain": [
       "(6000, 5188)"
      ]
     },
     "execution_count": 82,
     "metadata": {},
     "output_type": "execute_result"
    }
   ],
   "source": [
    "c3dAndCaption_features.shape\n",
    "#101 c3d features + 5087 caption features are merged"
   ]
  },
  {
   "cell_type": "markdown",
   "metadata": {},
   "source": [
    "Inputting the data into X and Y variables"
   ]
  },
  {
   "cell_type": "code",
   "execution_count": 83,
   "metadata": {},
   "outputs": [],
   "source": [
    "X = c3dAndCaption_features\n",
    "y = ground_truth.iloc[:, 1:3].values"
   ]
  },
  {
   "cell_type": "markdown",
   "metadata": {},
   "source": [
    "Splitting the dataset into the Training set and Test set"
   ]
  },
  {
   "cell_type": "code",
   "execution_count": 84,
   "metadata": {},
   "outputs": [],
   "source": [
    "from sklearn.model_selection import train_test_split\n",
    "X_train, X_test, y_train, y_test = train_test_split(X, y, test_size = 0.20)"
   ]
  },
  {
   "cell_type": "markdown",
   "metadata": {},
   "source": [
    "Using Linear Regression Model on Captions and C3D features"
   ]
  },
  {
   "cell_type": "code",
   "execution_count": 85,
   "metadata": {},
   "outputs": [
    {
     "data": {
      "text/plain": [
       "LinearRegression(copy_X=True, fit_intercept=True, n_jobs=1, normalize=False)"
      ]
     },
     "execution_count": 85,
     "metadata": {},
     "output_type": "execute_result"
    }
   ],
   "source": [
    "from sklearn.linear_model import LinearRegression\n",
    "LMregressor = LinearRegression()\n",
    "LMregressor.fit(X_train, y_train)"
   ]
  },
  {
   "cell_type": "code",
   "execution_count": 86,
   "metadata": {},
   "outputs": [
    {
     "name": "stdout",
     "output_type": "stream",
     "text": [
      "The Spearman's correlation coefficient is: 0.094\n",
      "The Spearman's correlation coefficient is: 0.028\n"
     ]
    }
   ],
   "source": [
    "y_pred = LMregressor.predict(X_test)\n",
    "Get_score(y_pred, y_test)"
   ]
  },
  {
   "cell_type": "markdown",
   "metadata": {},
   "source": [
    "Using Decision Tree Regression Model on Captions and C3D features"
   ]
  },
  {
   "cell_type": "code",
   "execution_count": 91,
   "metadata": {},
   "outputs": [
    {
     "data": {
      "text/plain": [
       "DecisionTreeRegressor(criterion='mse', max_depth=None, max_features=None,\n",
       "           max_leaf_nodes=None, min_impurity_decrease=0.0,\n",
       "           min_impurity_split=None, min_samples_leaf=1,\n",
       "           min_samples_split=2, min_weight_fraction_leaf=0.0,\n",
       "           presort=False, random_state=None, splitter='best')"
      ]
     },
     "execution_count": 91,
     "metadata": {},
     "output_type": "execute_result"
    }
   ],
   "source": [
    "from sklearn.tree import DecisionTreeRegressor\n",
    "DTregressor = DecisionTreeRegressor()\n",
    "DTregressor.fit(X_train, y_train)"
   ]
  },
  {
   "cell_type": "code",
   "execution_count": 92,
   "metadata": {},
   "outputs": [
    {
     "name": "stdout",
     "output_type": "stream",
     "text": [
      "The Spearman's correlation coefficient is: 0.130\n",
      "The Spearman's correlation coefficient is: 0.064\n"
     ]
    }
   ],
   "source": [
    "y_pred = DTregressor.predict(X_test)\n",
    "Get_score(y_pred, y_test)"
   ]
  },
  {
   "cell_type": "markdown",
   "metadata": {},
   "source": [
    "Fitting Random Forest Regression model on Captions and C3D features"
   ]
  },
  {
   "cell_type": "code",
   "execution_count": 94,
   "metadata": {},
   "outputs": [
    {
     "data": {
      "text/plain": [
       "RandomForestRegressor(bootstrap=True, criterion='mse', max_depth=None,\n",
       "           max_features='auto', max_leaf_nodes=None,\n",
       "           min_impurity_decrease=0.0, min_impurity_split=None,\n",
       "           min_samples_leaf=1, min_samples_split=2,\n",
       "           min_weight_fraction_leaf=0.0, n_estimators=10, n_jobs=1,\n",
       "           oob_score=False, random_state=None, verbose=0, warm_start=False)"
      ]
     },
     "execution_count": 94,
     "metadata": {},
     "output_type": "execute_result"
    }
   ],
   "source": [
    "from sklearn.ensemble import RandomForestRegressor\n",
    "RFregressor = RandomForestRegressor()\n",
    "RFregressor.fit(X_train, y_train)"
   ]
  },
  {
   "cell_type": "code",
   "execution_count": 95,
   "metadata": {},
   "outputs": [
    {
     "name": "stdout",
     "output_type": "stream",
     "text": [
      "The Spearman's correlation coefficient is: 0.268\n",
      "The Spearman's correlation coefficient is: 0.066\n"
     ]
    }
   ],
   "source": [
    "y_pred = RFregressor.predict(X_test)\n",
    "Get_score(y_pred, y_test)"
   ]
  },
  {
   "cell_type": "markdown",
   "metadata": {},
   "source": [
    "<font style=\"font-size:20px;text-align:center;\">***Using Keras Artificial Neural Network***</font>"
   ]
  },
  {
   "cell_type": "code",
   "execution_count": 96,
   "metadata": {},
   "outputs": [
    {
     "name": "stdout",
     "output_type": "stream",
     "text": [
      "Requirement already satisfied: pyprind in /Users/swathikiran/anaconda3/lib/python3.6/site-packages (2.11.2)\n",
      "\u001b[31mdistributed 1.21.8 requires msgpack, which is not installed.\u001b[0m\n",
      "\u001b[33mYou are using pip version 10.0.1, however version 19.0.3 is available.\n",
      "You should consider upgrading via the 'pip install --upgrade pip' command.\u001b[0m\n"
     ]
    }
   ],
   "source": [
    "!pip install pyprind"
   ]
  },
  {
   "cell_type": "code",
   "execution_count": 97,
   "metadata": {},
   "outputs": [],
   "source": [
    "from keras import Sequential\n",
    "from keras import layers\n",
    "from keras import regularizers\n",
    "import pyprind\n",
    "from collections import Counter"
   ]
  },
  {
   "cell_type": "code",
   "execution_count": 98,
   "metadata": {},
   "outputs": [
    {
     "data": {
      "text/plain": [
       "(6000, 5188)"
      ]
     },
     "execution_count": 98,
     "metadata": {},
     "output_type": "execute_result"
    }
   ],
   "source": [
    "c3dAndCaption_features.shape"
   ]
  },
  {
   "cell_type": "code",
   "execution_count": 99,
   "metadata": {},
   "outputs": [],
   "source": [
    "max_len =5188"
   ]
  },
  {
   "cell_type": "code",
   "execution_count": 100,
   "metadata": {},
   "outputs": [],
   "source": [
    "X = c3dAndCaption_features\n",
    "y = ground_truth.iloc[:, 1:3].values"
   ]
  },
  {
   "cell_type": "code",
   "execution_count": 101,
   "metadata": {},
   "outputs": [],
   "source": [
    "X_train, X_test, Y_train, Y_test = train_test_split(X,y, test_size=0.1)"
   ]
  },
  {
   "cell_type": "markdown",
   "metadata": {},
   "source": [
    "Building a sequntial model with 2 layers."
   ]
  },
  {
   "cell_type": "code",
   "execution_count": 102,
   "metadata": {},
   "outputs": [
    {
     "name": "stdout",
     "output_type": "stream",
     "text": [
      "Train on 5400 samples, validate on 600 samples\n",
      "Epoch 1/10\n",
      "5400/5400 [==============================] - 3s 641us/step - loss: 0.0616 - acc: 0.6841 - val_loss: 0.0186 - val_acc: 0.7083\n",
      "Epoch 2/10\n",
      "5400/5400 [==============================] - 2s 435us/step - loss: 0.0178 - acc: 0.7002 - val_loss: 0.0138 - val_acc: 0.7083\n",
      "Epoch 3/10\n",
      "5400/5400 [==============================] - 3s 487us/step - loss: 0.0155 - acc: 0.7037 - val_loss: 0.0134 - val_acc: 0.7083\n",
      "Epoch 4/10\n",
      "5400/5400 [==============================] - 3s 492us/step - loss: 0.0149 - acc: 0.7044 - val_loss: 0.0133 - val_acc: 0.7083\n",
      "Epoch 5/10\n",
      "5400/5400 [==============================] - 3s 504us/step - loss: 0.0150 - acc: 0.7044 - val_loss: 0.0132 - val_acc: 0.7083\n",
      "Epoch 6/10\n",
      "5400/5400 [==============================] - 2s 451us/step - loss: 0.0148 - acc: 0.7044 - val_loss: 0.0132 - val_acc: 0.7083\n",
      "Epoch 7/10\n",
      "5400/5400 [==============================] - 3s 471us/step - loss: 0.0148 - acc: 0.7044 - val_loss: 0.0134 - val_acc: 0.7083\n",
      "Epoch 8/10\n",
      "5400/5400 [==============================] - 2s 452us/step - loss: 0.0146 - acc: 0.7044 - val_loss: 0.0132 - val_acc: 0.7083\n",
      "Epoch 9/10\n",
      "5400/5400 [==============================] - 2s 456us/step - loss: 0.0147 - acc: 0.7044 - val_loss: 0.0132 - val_acc: 0.7083\n",
      "Epoch 10/10\n",
      "5400/5400 [==============================] - 2s 462us/step - loss: 0.0145 - acc: 0.7044 - val_loss: 0.0132 - val_acc: 0.7083\n"
     ]
    }
   ],
   "source": [
    "model = Sequential()\n",
    "model.add(layers.Dense(64,activation='relu',kernel_regularizer=regularizers.l2(0.001),input_shape=(max_len,)))\n",
    "model.add(layers.Dropout(0.6))\n",
    "model.add(layers.Dense(64,activation='relu',kernel_regularizer=regularizers.l2(0.001)))\n",
    "model.add(layers.Dropout(0.5))\n",
    "model.add(layers.Dense(2,activation='sigmoid'))\n",
    "\n",
    "# compile the model \n",
    "model.compile(optimizer='rmsprop',loss='mse',metrics=['accuracy'])\n",
    "\n",
    "# training the model \n",
    "history = model.fit(X_train,Y_train,epochs=10,validation_data=(X_test,Y_test))\n"
   ]
  },
  {
   "cell_type": "code",
   "execution_count": 103,
   "metadata": {},
   "outputs": [
    {
     "data": {
      "image/png": "[encoded data removed]",
      "text/plain": [
       "<Figure size 432x288 with 1 Axes>"
      ]
     },
     "metadata": {},
     "output_type": "display_data"
    },
    {
     "data": {
      "image/png": "[encoded data removed]",
      "text/plain": [
       "<Figure size 432x288 with 1 Axes>"
      ]
     },
     "metadata": {},
     "output_type": "display_data"
    }
   ],
   "source": [
    "# visualizing the model\n",
    "loss = history.history['loss']\n",
    "val_loss = history.history['val_loss']\n",
    "\n",
    "epochs = range(1,len(loss)+1)\n",
    "\n",
    "plt.plot(epochs,loss,'bo',label='Training loss')\n",
    "plt.plot(epochs,val_loss,'b',label='Validation loss')\n",
    "plt.title('Training and validation loss')\n",
    "plt.xlabel('Epochs')\n",
    "plt.ylabel('Loss')\n",
    "plt.legend()\n",
    "plt.show()\n",
    "\n",
    "plt.figure()\n",
    "acc = history.history['acc']\n",
    "val_acc = history.history['val_acc']\n",
    "plt.plot(epochs, acc, 'bo', label='Training acc')\n",
    "plt.plot(epochs, val_acc, 'b', label='Validation acc')\n",
    "plt.title('Training and validation accuracy')\n",
    "plt.xlabel('Epochs')\n",
    "plt.ylabel('Acc')\n",
    "plt.legend()\n",
    "plt.show()"
   ]
  },
  {
   "cell_type": "code",
   "execution_count": 104,
   "metadata": {},
   "outputs": [
    {
     "name": "stdout",
     "output_type": "stream",
     "text": [
      "The Spearman's correlation coefficient is: 0.263\n",
      "The Spearman's correlation coefficient is: 0.194\n"
     ]
    }
   ],
   "source": [
    "y_pred = model.predict(X_test)\n",
    "Get_score(y_pred, Y_test)"
   ]
  },
  {
   "cell_type": "code",
   "execution_count": null,
   "metadata": {},
   "outputs": [],
   "source": []
  },
  {
   "cell_type": "markdown",
   "metadata": {},
   "source": [
    "<font style=\"font-size:25px;text-align:center;\">***Extracting the features from HMP and running those features on model***</font>"
   ]
  },
  {
   "cell_type": "markdown",
   "metadata": {},
   "source": [
    "Defining the method for reading HMP Features from a file"
   ]
  },
  {
   "cell_type": "code",
   "execution_count": 105,
   "metadata": {},
   "outputs": [],
   "source": [
    "def read_HMP(fname):\n",
    "    \"\"\"Scan HMP(Histogram of Motion Patterns) features from file\"\"\"\n",
    "    with open(fname) as f:\n",
    "        for line in f:\n",
    "            pairs=line.split()\n",
    "            HMP_temp = { int(p.split(':')[0]) : float(p.split(':')[1]) for p in pairs}\n",
    "    # there are 6075 bins, fill zeros\n",
    "    HMP = np.zeros(6075)\n",
    "    for idx in HMP_temp.keys():\n",
    "        HMP[idx-1] = HMP_temp[idx]            \n",
    "    return HMP"
   ]
  },
  {
   "cell_type": "markdown",
   "metadata": {},
   "source": [
    "Calling the method for fetching HMP features and storing them into a array list using loop\n",
    "Method works similar to that of the"
   ]
  },
  {
   "cell_type": "code",
   "execution_count": 108,
   "metadata": {},
   "outputs": [],
   "source": [
    "HMP_feature_list= []\n",
    "video_names_list = []\n",
    "path = 'C3D/*.txt'\n",
    "for filename in glob.glob('HMP/*.txt'):\n",
    "    name = ((filename.split('/')[-1]).split('.')[0]+'.webm')\n",
    "    video_names_list.append(name)\n",
    "    HMP_features = read_HMP(filename)\n",
    "    HMP_feature_list.append(HMP_features)"
   ]
  },
  {
   "cell_type": "code",
   "execution_count": 109,
   "metadata": {},
   "outputs": [],
   "source": [
    "HMP_features = pd.DataFrame(np.array(HMP_feature_list).reshape(6000,6075))\n",
    "HMP_features[\"video\"] = video_names_list"
   ]
  },
  {
   "cell_type": "code",
   "execution_count": 110,
   "metadata": {},
   "outputs": [
    {
     "data": {
      "text/html": [
       "<div>\n",
       "<style scoped>\n",
       "    .dataframe tbody tr th:only-of-type {\n",
       "        vertical-align: middle;\n",
       "    }\n",
       "\n",
       "    .dataframe tbody tr th {\n",
       "        vertical-align: top;\n",
       "    }\n",
       "\n",
       "    .dataframe thead th {\n",
       "        text-align: right;\n",
       "    }\n",
       "</style>\n",
       "<table border=\"1\" class=\"dataframe\">\n",
       "  <thead>\n",
       "    <tr style=\"text-align: right;\">\n",
       "      <th></th>\n",
       "      <th>0</th>\n",
       "      <th>1</th>\n",
       "      <th>2</th>\n",
       "      <th>3</th>\n",
       "      <th>4</th>\n",
       "      <th>5</th>\n",
       "      <th>6</th>\n",
       "      <th>7</th>\n",
       "      <th>8</th>\n",
       "      <th>9</th>\n",
       "      <th>...</th>\n",
       "      <th>6066</th>\n",
       "      <th>6067</th>\n",
       "      <th>6068</th>\n",
       "      <th>6069</th>\n",
       "      <th>6070</th>\n",
       "      <th>6071</th>\n",
       "      <th>6072</th>\n",
       "      <th>6073</th>\n",
       "      <th>6074</th>\n",
       "      <th>video</th>\n",
       "    </tr>\n",
       "  </thead>\n",
       "  <tbody>\n",
       "    <tr>\n",
       "      <th>0</th>\n",
       "      <td>0.039095</td>\n",
       "      <td>0.013401</td>\n",
       "      <td>0.000546</td>\n",
       "      <td>0.0</td>\n",
       "      <td>0.004734</td>\n",
       "      <td>0.000320</td>\n",
       "      <td>0.0</td>\n",
       "      <td>0.0</td>\n",
       "      <td>0.000042</td>\n",
       "      <td>0.0</td>\n",
       "      <td>...</td>\n",
       "      <td>0.000199</td>\n",
       "      <td>0.000067</td>\n",
       "      <td>0.000009</td>\n",
       "      <td>0.000170</td>\n",
       "      <td>0.000490</td>\n",
       "      <td>0.000034</td>\n",
       "      <td>0.000275</td>\n",
       "      <td>0.000570</td>\n",
       "      <td>0.000177</td>\n",
       "      <td>video4960.webm</td>\n",
       "    </tr>\n",
       "    <tr>\n",
       "      <th>1</th>\n",
       "      <td>0.007150</td>\n",
       "      <td>0.002285</td>\n",
       "      <td>0.000158</td>\n",
       "      <td>0.0</td>\n",
       "      <td>0.000995</td>\n",
       "      <td>0.000197</td>\n",
       "      <td>0.0</td>\n",
       "      <td>0.0</td>\n",
       "      <td>0.000055</td>\n",
       "      <td>0.0</td>\n",
       "      <td>...</td>\n",
       "      <td>0.000371</td>\n",
       "      <td>0.000101</td>\n",
       "      <td>0.000018</td>\n",
       "      <td>0.000200</td>\n",
       "      <td>0.000715</td>\n",
       "      <td>0.000134</td>\n",
       "      <td>0.000292</td>\n",
       "      <td>0.000840</td>\n",
       "      <td>0.001522</td>\n",
       "      <td>video1818.webm</td>\n",
       "    </tr>\n",
       "    <tr>\n",
       "      <th>2</th>\n",
       "      <td>0.014682</td>\n",
       "      <td>0.003656</td>\n",
       "      <td>0.000047</td>\n",
       "      <td>0.0</td>\n",
       "      <td>0.001622</td>\n",
       "      <td>0.000025</td>\n",
       "      <td>0.0</td>\n",
       "      <td>0.0</td>\n",
       "      <td>0.000011</td>\n",
       "      <td>0.0</td>\n",
       "      <td>...</td>\n",
       "      <td>0.000038</td>\n",
       "      <td>0.000011</td>\n",
       "      <td>0.000000</td>\n",
       "      <td>0.000105</td>\n",
       "      <td>0.000054</td>\n",
       "      <td>0.000000</td>\n",
       "      <td>0.000094</td>\n",
       "      <td>0.000110</td>\n",
       "      <td>0.000007</td>\n",
       "      <td>video6811.webm</td>\n",
       "    </tr>\n",
       "    <tr>\n",
       "      <th>3</th>\n",
       "      <td>0.090945</td>\n",
       "      <td>0.012822</td>\n",
       "      <td>0.000117</td>\n",
       "      <td>0.0</td>\n",
       "      <td>0.007057</td>\n",
       "      <td>0.000088</td>\n",
       "      <td>0.0</td>\n",
       "      <td>0.0</td>\n",
       "      <td>0.000031</td>\n",
       "      <td>0.0</td>\n",
       "      <td>...</td>\n",
       "      <td>0.000010</td>\n",
       "      <td>0.000000</td>\n",
       "      <td>0.000000</td>\n",
       "      <td>0.000016</td>\n",
       "      <td>0.000021</td>\n",
       "      <td>0.000000</td>\n",
       "      <td>0.000036</td>\n",
       "      <td>0.000036</td>\n",
       "      <td>0.000003</td>\n",
       "      <td>video3969.webm</td>\n",
       "    </tr>\n",
       "    <tr>\n",
       "      <th>4</th>\n",
       "      <td>0.017401</td>\n",
       "      <td>0.003635</td>\n",
       "      <td>0.000018</td>\n",
       "      <td>0.0</td>\n",
       "      <td>0.002006</td>\n",
       "      <td>0.000035</td>\n",
       "      <td>0.0</td>\n",
       "      <td>0.0</td>\n",
       "      <td>0.000013</td>\n",
       "      <td>0.0</td>\n",
       "      <td>...</td>\n",
       "      <td>0.000078</td>\n",
       "      <td>0.000078</td>\n",
       "      <td>0.000002</td>\n",
       "      <td>0.000126</td>\n",
       "      <td>0.000468</td>\n",
       "      <td>0.000016</td>\n",
       "      <td>0.000168</td>\n",
       "      <td>0.000497</td>\n",
       "      <td>0.000029</td>\n",
       "      <td>video993.webm</td>\n",
       "    </tr>\n",
       "  </tbody>\n",
       "</table>\n",
       "<p>5 rows × 6076 columns</p>\n",
       "</div>"
      ],
      "text/plain": [
       "          0         1         2    3         4         5    6    7         8  \\\n",
       "0  0.039095  0.013401  0.000546  0.0  0.004734  0.000320  0.0  0.0  0.000042   \n",
       "1  0.007150  0.002285  0.000158  0.0  0.000995  0.000197  0.0  0.0  0.000055   \n",
       "2  0.014682  0.003656  0.000047  0.0  0.001622  0.000025  0.0  0.0  0.000011   \n",
       "3  0.090945  0.012822  0.000117  0.0  0.007057  0.000088  0.0  0.0  0.000031   \n",
       "4  0.017401  0.003635  0.000018  0.0  0.002006  0.000035  0.0  0.0  0.000013   \n",
       "\n",
       "     9       ...            6066      6067      6068      6069      6070  \\\n",
       "0  0.0       ...        0.000199  0.000067  0.000009  0.000170  0.000490   \n",
       "1  0.0       ...        0.000371  0.000101  0.000018  0.000200  0.000715   \n",
       "2  0.0       ...        0.000038  0.000011  0.000000  0.000105  0.000054   \n",
       "3  0.0       ...        0.000010  0.000000  0.000000  0.000016  0.000021   \n",
       "4  0.0       ...        0.000078  0.000078  0.000002  0.000126  0.000468   \n",
       "\n",
       "       6071      6072      6073      6074           video  \n",
       "0  0.000034  0.000275  0.000570  0.000177  video4960.webm  \n",
       "1  0.000134  0.000292  0.000840  0.001522  video1818.webm  \n",
       "2  0.000000  0.000094  0.000110  0.000007  video6811.webm  \n",
       "3  0.000000  0.000036  0.000036  0.000003  video3969.webm  \n",
       "4  0.000016  0.000168  0.000497  0.000029   video993.webm  \n",
       "\n",
       "[5 rows x 6076 columns]"
      ]
     },
     "execution_count": 110,
     "metadata": {},
     "output_type": "execute_result"
    }
   ],
   "source": [
    "HMP_features.head()"
   ]
  },
  {
   "cell_type": "markdown",
   "metadata": {},
   "source": [
    "merging the dataframe to sort the videos and their features respectively"
   ]
  },
  {
   "cell_type": "code",
   "execution_count": 111,
   "metadata": {},
   "outputs": [],
   "source": [
    "hdf = pd.merge(ground_truth, HMP_features , on='video')"
   ]
  },
  {
   "cell_type": "code",
   "execution_count": 112,
   "metadata": {},
   "outputs": [
    {
     "data": {
      "text/html": [
       "<div>\n",
       "<style scoped>\n",
       "    .dataframe tbody tr th:only-of-type {\n",
       "        vertical-align: middle;\n",
       "    }\n",
       "\n",
       "    .dataframe tbody tr th {\n",
       "        vertical-align: top;\n",
       "    }\n",
       "\n",
       "    .dataframe thead th {\n",
       "        text-align: right;\n",
       "    }\n",
       "</style>\n",
       "<table border=\"1\" class=\"dataframe\">\n",
       "  <thead>\n",
       "    <tr style=\"text-align: right;\">\n",
       "      <th></th>\n",
       "      <th>video</th>\n",
       "      <th>short-term_memorability</th>\n",
       "      <th>long-term_memorability</th>\n",
       "      <th>0</th>\n",
       "      <th>1</th>\n",
       "      <th>2</th>\n",
       "      <th>3</th>\n",
       "      <th>4</th>\n",
       "      <th>5</th>\n",
       "      <th>6</th>\n",
       "      <th>...</th>\n",
       "      <th>6065</th>\n",
       "      <th>6066</th>\n",
       "      <th>6067</th>\n",
       "      <th>6068</th>\n",
       "      <th>6069</th>\n",
       "      <th>6070</th>\n",
       "      <th>6071</th>\n",
       "      <th>6072</th>\n",
       "      <th>6073</th>\n",
       "      <th>6074</th>\n",
       "    </tr>\n",
       "  </thead>\n",
       "  <tbody>\n",
       "    <tr>\n",
       "      <th>0</th>\n",
       "      <td>video3.webm</td>\n",
       "      <td>0.924</td>\n",
       "      <td>0.846</td>\n",
       "      <td>0.125563</td>\n",
       "      <td>0.024036</td>\n",
       "      <td>0.000314</td>\n",
       "      <td>0.0</td>\n",
       "      <td>0.015864</td>\n",
       "      <td>0.000358</td>\n",
       "      <td>0.0</td>\n",
       "      <td>...</td>\n",
       "      <td>0.000000</td>\n",
       "      <td>0.000393</td>\n",
       "      <td>0.000279</td>\n",
       "      <td>0.000000</td>\n",
       "      <td>0.000289</td>\n",
       "      <td>0.001926</td>\n",
       "      <td>0.000000</td>\n",
       "      <td>0.000086</td>\n",
       "      <td>0.000580</td>\n",
       "      <td>0.000000</td>\n",
       "    </tr>\n",
       "    <tr>\n",
       "      <th>1</th>\n",
       "      <td>video4.webm</td>\n",
       "      <td>0.923</td>\n",
       "      <td>0.667</td>\n",
       "      <td>0.007526</td>\n",
       "      <td>0.001421</td>\n",
       "      <td>0.000068</td>\n",
       "      <td>0.0</td>\n",
       "      <td>0.001184</td>\n",
       "      <td>0.000143</td>\n",
       "      <td>0.0</td>\n",
       "      <td>...</td>\n",
       "      <td>0.000053</td>\n",
       "      <td>0.000244</td>\n",
       "      <td>0.000066</td>\n",
       "      <td>0.000000</td>\n",
       "      <td>0.000081</td>\n",
       "      <td>0.000617</td>\n",
       "      <td>0.000094</td>\n",
       "      <td>0.000220</td>\n",
       "      <td>0.000762</td>\n",
       "      <td>0.001224</td>\n",
       "    </tr>\n",
       "    <tr>\n",
       "      <th>2</th>\n",
       "      <td>video6.webm</td>\n",
       "      <td>0.863</td>\n",
       "      <td>0.700</td>\n",
       "      <td>0.109584</td>\n",
       "      <td>0.018978</td>\n",
       "      <td>0.000289</td>\n",
       "      <td>0.0</td>\n",
       "      <td>0.008774</td>\n",
       "      <td>0.000208</td>\n",
       "      <td>0.0</td>\n",
       "      <td>...</td>\n",
       "      <td>0.000007</td>\n",
       "      <td>0.000054</td>\n",
       "      <td>0.000045</td>\n",
       "      <td>0.000000</td>\n",
       "      <td>0.000028</td>\n",
       "      <td>0.000291</td>\n",
       "      <td>0.000033</td>\n",
       "      <td>0.000052</td>\n",
       "      <td>0.000258</td>\n",
       "      <td>0.000215</td>\n",
       "    </tr>\n",
       "    <tr>\n",
       "      <th>3</th>\n",
       "      <td>video8.webm</td>\n",
       "      <td>0.922</td>\n",
       "      <td>0.818</td>\n",
       "      <td>0.120431</td>\n",
       "      <td>0.013561</td>\n",
       "      <td>0.000277</td>\n",
       "      <td>0.0</td>\n",
       "      <td>0.018974</td>\n",
       "      <td>0.000913</td>\n",
       "      <td>0.0</td>\n",
       "      <td>...</td>\n",
       "      <td>0.000059</td>\n",
       "      <td>0.001110</td>\n",
       "      <td>0.000075</td>\n",
       "      <td>0.000008</td>\n",
       "      <td>0.000333</td>\n",
       "      <td>0.000793</td>\n",
       "      <td>0.000101</td>\n",
       "      <td>0.000588</td>\n",
       "      <td>0.000503</td>\n",
       "      <td>0.000452</td>\n",
       "    </tr>\n",
       "    <tr>\n",
       "      <th>4</th>\n",
       "      <td>video10.webm</td>\n",
       "      <td>0.950</td>\n",
       "      <td>0.900</td>\n",
       "      <td>0.005026</td>\n",
       "      <td>0.001356</td>\n",
       "      <td>0.000055</td>\n",
       "      <td>0.0</td>\n",
       "      <td>0.000665</td>\n",
       "      <td>0.000029</td>\n",
       "      <td>0.0</td>\n",
       "      <td>...</td>\n",
       "      <td>0.000009</td>\n",
       "      <td>0.000882</td>\n",
       "      <td>0.000200</td>\n",
       "      <td>0.000009</td>\n",
       "      <td>0.000559</td>\n",
       "      <td>0.001097</td>\n",
       "      <td>0.000018</td>\n",
       "      <td>0.000632</td>\n",
       "      <td>0.001128</td>\n",
       "      <td>0.000064</td>\n",
       "    </tr>\n",
       "  </tbody>\n",
       "</table>\n",
       "<p>5 rows × 6078 columns</p>\n",
       "</div>"
      ],
      "text/plain": [
       "          video  short-term_memorability  long-term_memorability         0  \\\n",
       "0   video3.webm                    0.924                   0.846  0.125563   \n",
       "1   video4.webm                    0.923                   0.667  0.007526   \n",
       "2   video6.webm                    0.863                   0.700  0.109584   \n",
       "3   video8.webm                    0.922                   0.818  0.120431   \n",
       "4  video10.webm                    0.950                   0.900  0.005026   \n",
       "\n",
       "          1         2    3         4         5    6    ...         6065  \\\n",
       "0  0.024036  0.000314  0.0  0.015864  0.000358  0.0    ...     0.000000   \n",
       "1  0.001421  0.000068  0.0  0.001184  0.000143  0.0    ...     0.000053   \n",
       "2  0.018978  0.000289  0.0  0.008774  0.000208  0.0    ...     0.000007   \n",
       "3  0.013561  0.000277  0.0  0.018974  0.000913  0.0    ...     0.000059   \n",
       "4  0.001356  0.000055  0.0  0.000665  0.000029  0.0    ...     0.000009   \n",
       "\n",
       "       6066      6067      6068      6069      6070      6071      6072  \\\n",
       "0  0.000393  0.000279  0.000000  0.000289  0.001926  0.000000  0.000086   \n",
       "1  0.000244  0.000066  0.000000  0.000081  0.000617  0.000094  0.000220   \n",
       "2  0.000054  0.000045  0.000000  0.000028  0.000291  0.000033  0.000052   \n",
       "3  0.001110  0.000075  0.000008  0.000333  0.000793  0.000101  0.000588   \n",
       "4  0.000882  0.000200  0.000009  0.000559  0.001097  0.000018  0.000632   \n",
       "\n",
       "       6073      6074  \n",
       "0  0.000580  0.000000  \n",
       "1  0.000762  0.001224  \n",
       "2  0.000258  0.000215  \n",
       "3  0.000503  0.000452  \n",
       "4  0.001128  0.000064  \n",
       "\n",
       "[5 rows x 6078 columns]"
      ]
     },
     "execution_count": 112,
     "metadata": {},
     "output_type": "execute_result"
    }
   ],
   "source": [
    "hdf.head()"
   ]
  },
  {
   "cell_type": "code",
   "execution_count": 113,
   "metadata": {},
   "outputs": [],
   "source": [
    "hmp_features = hdf.iloc[:,3:6078].values"
   ]
  },
  {
   "cell_type": "markdown",
   "metadata": {},
   "source": [
    "Assigning the features to X and Y"
   ]
  },
  {
   "cell_type": "code",
   "execution_count": 114,
   "metadata": {},
   "outputs": [],
   "source": [
    "X = hmp_features\n",
    "Y = ground_truth.iloc[:, 1:3].values"
   ]
  },
  {
   "cell_type": "markdown",
   "metadata": {},
   "source": [
    "Splitting the dataset into the Training set and Test set"
   ]
  },
  {
   "cell_type": "code",
   "execution_count": 115,
   "metadata": {},
   "outputs": [],
   "source": [
    "from sklearn.model_selection import train_test_split\n",
    "X_train, X_test, y_train, y_test = train_test_split(X, y, test_size = 0.20)"
   ]
  },
  {
   "cell_type": "markdown",
   "metadata": {},
   "source": [
    "Using Linear Regression Model on Captions and C3D features"
   ]
  },
  {
   "cell_type": "code",
   "execution_count": 116,
   "metadata": {},
   "outputs": [
    {
     "data": {
      "text/plain": [
       "LinearRegression(copy_X=True, fit_intercept=True, n_jobs=1, normalize=False)"
      ]
     },
     "execution_count": 116,
     "metadata": {},
     "output_type": "execute_result"
    }
   ],
   "source": [
    "from sklearn.linear_model import LinearRegression\n",
    "LMregressor = LinearRegression()\n",
    "LMregressor.fit(X_train, y_train)"
   ]
  },
  {
   "cell_type": "code",
   "execution_count": 118,
   "metadata": {},
   "outputs": [
    {
     "name": "stdout",
     "output_type": "stream",
     "text": [
      "The Spearman's correlation coefficient is: 0.019\n",
      "The Spearman's correlation coefficient is: 0.018\n"
     ]
    }
   ],
   "source": [
    "y_pred = LMregressor.predict(X_test)\n",
    "Get_score(y_pred, y_test)"
   ]
  },
  {
   "cell_type": "markdown",
   "metadata": {},
   "source": [
    "Using Decision Tree Regression Model on Captions and C3D features"
   ]
  },
  {
   "cell_type": "code",
   "execution_count": 119,
   "metadata": {},
   "outputs": [
    {
     "data": {
      "text/plain": [
       "DecisionTreeRegressor(criterion='mse', max_depth=None, max_features=None,\n",
       "           max_leaf_nodes=None, min_impurity_decrease=0.0,\n",
       "           min_impurity_split=None, min_samples_leaf=1,\n",
       "           min_samples_split=2, min_weight_fraction_leaf=0.0,\n",
       "           presort=False, random_state=None, splitter='best')"
      ]
     },
     "execution_count": 119,
     "metadata": {},
     "output_type": "execute_result"
    }
   ],
   "source": [
    "from sklearn.tree import DecisionTreeRegressor\n",
    "DTregressor = DecisionTreeRegressor()\n",
    "DTregressor.fit(X_train, y_train)"
   ]
  },
  {
   "cell_type": "code",
   "execution_count": 120,
   "metadata": {},
   "outputs": [
    {
     "name": "stdout",
     "output_type": "stream",
     "text": [
      "The Spearman's correlation coefficient is: 0.066\n",
      "The Spearman's correlation coefficient is: 0.061\n"
     ]
    }
   ],
   "source": [
    "y_pred = DTregressor.predict(X_test)\n",
    "Get_score(y_pred, y_test)"
   ]
  },
  {
   "cell_type": "markdown",
   "metadata": {},
   "source": [
    "Fitting Random Forest Regression model on Captions and C3D features"
   ]
  },
  {
   "cell_type": "code",
   "execution_count": 121,
   "metadata": {},
   "outputs": [
    {
     "data": {
      "text/plain": [
       "RandomForestRegressor(bootstrap=True, criterion='mse', max_depth=None,\n",
       "           max_features='auto', max_leaf_nodes=None,\n",
       "           min_impurity_decrease=0.0, min_impurity_split=None,\n",
       "           min_samples_leaf=1, min_samples_split=2,\n",
       "           min_weight_fraction_leaf=0.0, n_estimators=10, n_jobs=1,\n",
       "           oob_score=False, random_state=None, verbose=0, warm_start=False)"
      ]
     },
     "execution_count": 121,
     "metadata": {},
     "output_type": "execute_result"
    }
   ],
   "source": [
    "from sklearn.ensemble import RandomForestRegressor\n",
    "RFregressor = RandomForestRegressor()\n",
    "RFregressor.fit(X_train, y_train)"
   ]
  },
  {
   "cell_type": "code",
   "execution_count": 122,
   "metadata": {},
   "outputs": [
    {
     "name": "stdout",
     "output_type": "stream",
     "text": [
      "The Spearman's correlation coefficient is: 0.142\n",
      "The Spearman's correlation coefficient is: 0.067\n"
     ]
    }
   ],
   "source": [
    "y_pred = RFregressor.predict(X_test)\n",
    "Get_score(y_pred, y_test)"
   ]
  },
  {
   "cell_type": "markdown",
   "metadata": {},
   "source": [
    "Using ANN Sequential Model on HMP Features"
   ]
  },
  {
   "cell_type": "code",
   "execution_count": 125,
   "metadata": {
    "scrolled": true
   },
   "outputs": [
    {
     "name": "stdout",
     "output_type": "stream",
     "text": [
      "Requirement already satisfied: pyprind in /Users/swathikiran/anaconda3/lib/python3.6/site-packages (2.11.2)\n",
      "\u001b[31mdistributed 1.21.8 requires msgpack, which is not installed.\u001b[0m\n",
      "\u001b[33mYou are using pip version 10.0.1, however version 19.0.3 is available.\n",
      "You should consider upgrading via the 'pip install --upgrade pip' command.\u001b[0m\n"
     ]
    }
   ],
   "source": [
    "!pip install pyprind"
   ]
  },
  {
   "cell_type": "code",
   "execution_count": 124,
   "metadata": {},
   "outputs": [],
   "source": [
    "from keras import Sequential\n",
    "from keras import layers\n",
    "from keras import regularizers\n",
    "import pyprind\n",
    "from collections import Counter"
   ]
  },
  {
   "cell_type": "code",
   "execution_count": 123,
   "metadata": {},
   "outputs": [
    {
     "data": {
      "text/plain": [
       "(6000, 6075)"
      ]
     },
     "execution_count": 123,
     "metadata": {},
     "output_type": "execute_result"
    }
   ],
   "source": [
    "hmp_features.shape"
   ]
  },
  {
   "cell_type": "code",
   "execution_count": 126,
   "metadata": {},
   "outputs": [],
   "source": [
    "max_len = 6075"
   ]
  },
  {
   "cell_type": "code",
   "execution_count": 127,
   "metadata": {},
   "outputs": [],
   "source": [
    "X = hmp_features\n",
    "y = ground_truth.iloc[:, 1:3].values"
   ]
  },
  {
   "cell_type": "code",
   "execution_count": 128,
   "metadata": {},
   "outputs": [],
   "source": [
    "X_train, X_test, Y_train, Y_test = train_test_split(X,y, test_size=0.2)"
   ]
  },
  {
   "cell_type": "markdown",
   "metadata": {},
   "source": [
    "Building a sequntial model with 2 layers."
   ]
  },
  {
   "cell_type": "code",
   "execution_count": 131,
   "metadata": {},
   "outputs": [
    {
     "name": "stdout",
     "output_type": "stream",
     "text": [
      "Train on 4800 samples, validate on 1200 samples\n",
      "Epoch 1/10\n",
      "4800/4800 [==============================] - 4s 843us/step - loss: 0.0809 - acc: 0.6648 - val_loss: 0.0238 - val_acc: 0.6725\n",
      "Epoch 2/10\n",
      "4800/4800 [==============================] - 3s 640us/step - loss: 0.0212 - acc: 0.7023 - val_loss: 0.0151 - val_acc: 0.6725\n",
      "Epoch 3/10\n",
      "4800/4800 [==============================] - 3s 624us/step - loss: 0.0166 - acc: 0.7098 - val_loss: 0.0137 - val_acc: 0.6725\n",
      "Epoch 4/10\n",
      "4800/4800 [==============================] - 3s 632us/step - loss: 0.0157 - acc: 0.7108 - val_loss: 0.0134 - val_acc: 0.6725\n",
      "Epoch 5/10\n",
      "4800/4800 [==============================] - 3s 645us/step - loss: 0.0152 - acc: 0.7108 - val_loss: 0.0133 - val_acc: 0.6725\n",
      "Epoch 6/10\n",
      "4800/4800 [==============================] - 3s 663us/step - loss: 0.0152 - acc: 0.7121 - val_loss: 0.0133 - val_acc: 0.6725\n",
      "Epoch 7/10\n",
      "4800/4800 [==============================] - 3s 699us/step - loss: 0.0151 - acc: 0.7127 - val_loss: 0.0133 - val_acc: 0.6725\n",
      "Epoch 8/10\n",
      "4800/4800 [==============================] - 3s 673us/step - loss: 0.0151 - acc: 0.7127 - val_loss: 0.0133 - val_acc: 0.6725\n",
      "Epoch 9/10\n",
      "4800/4800 [==============================] - 3s 682us/step - loss: 0.0149 - acc: 0.7127 - val_loss: 0.0132 - val_acc: 0.6725\n",
      "Epoch 10/10\n",
      "4800/4800 [==============================] - 3s 680us/step - loss: 0.0149 - acc: 0.7129 - val_loss: 0.0133 - val_acc: 0.6725\n"
     ]
    }
   ],
   "source": [
    "model = Sequential()\n",
    "model.add(layers.Dense(64,activation='relu',kernel_regularizer=regularizers.l2(0.001),input_shape=(max_len,)))\n",
    "model.add(layers.Dropout(0.6))\n",
    "model.add(layers.Dense(64,activation='relu',kernel_regularizer=regularizers.l2(0.001)))\n",
    "model.add(layers.Dropout(0.5))\n",
    "model.add(layers.Dense(2,activation='sigmoid'))\n",
    "\n",
    "# compile the model \n",
    "model.compile(optimizer='adam',loss='mse',metrics=['accuracy'])\n",
    "\n",
    "# training the model \n",
    "history = model.fit(X_train,Y_train,epochs=10,validation_data=(X_test,Y_test))\n"
   ]
  },
  {
   "cell_type": "code",
   "execution_count": 132,
   "metadata": {},
   "outputs": [
    {
     "name": "stdout",
     "output_type": "stream",
     "text": [
      "The Spearman's correlation coefficient is: 0.083\n",
      "The Spearman's correlation coefficient is: 0.077\n"
     ]
    }
   ],
   "source": [
    "y_pred = model.predict(X_test)\n",
    "Get_score(y_pred, Y_test)"
   ]
  },
  {
   "cell_type": "markdown",
   "metadata": {},
   "source": [
    "HMP is clearly performing worst compared to other features, So i have excluded these features in the final model"
   ]
  },
  {
   "cell_type": "code",
   "execution_count": null,
   "metadata": {},
   "outputs": [],
   "source": [
    "\"\"\"Conclusion:\n",
    "None of the models Outperfomed the model that used captions when used with TFIDF vectorizer, \n",
    "Therefore My final model will be based on TFIDF values of captions using Random Forest Regressor.\n",
    "\"\"\""
   ]
  }
 ],
 "metadata": {
  "kernelspec": {
   "display_name": "Python 3",
   "language": "python",
   "name": "python3"
  },
  "language_info": {
   "codemirror_mode": {
    "name": "ipython",
    "version": 3
   },
   "file_extension": ".py",
   "mimetype": "text/x-python",
   "name": "python",
   "nbconvert_exporter": "python",
   "pygments_lexer": "ipython3",
   "version": "3.6.5"
  }
 },
 "nbformat": 4,
 "nbformat_minor": 2
}
